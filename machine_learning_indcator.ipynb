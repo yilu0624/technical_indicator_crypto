{
 "cells": [
  {
   "cell_type": "code",
   "execution_count": 901,
   "id": "2f5b5a7a-e026-4d7a-8550-c1c93803342f",
   "metadata": {},
   "outputs": [],
   "source": [
    "import os\n",
    "import sys\n",
    "import pandas as pd\n",
    "import numpy as np\n",
    "from sklearn.preprocessing import MinMaxScaler\n",
    "from sklearn.model_selection import TimeSeriesSplit\n",
    "from tensorflow.keras.models import Sequential, Model\n",
    "from tensorflow.keras.layers import LSTM, Bidirectional, Dense, Conv1D, Flatten, MaxPooling1D, RepeatVector, \\\n",
    "    TimeDistributed, LayerNormalization, Dropout, MultiHeadAttention, Input\n",
    "from tensorflow.keras.optimizers import Adam\n",
    "import statsmodels.api as sm\n",
    "from pmdarima import auto_arima\n",
    "from scipy import stats\n",
    "from statsmodels.tsa.arima.model import ARIMA\n",
    "import matplotlib.pyplot as plt"
   ]
  },
  {
   "cell_type": "code",
   "execution_count": 902,
   "id": "de927ce7-bd89-4e76-ba9f-d27abea552e5",
   "metadata": {},
   "outputs": [],
   "source": [
    "import tensorflow as tf"
   ]
  },
  {
   "cell_type": "code",
   "execution_count": 900,
   "id": "3ef7aa41-96ae-4c94-b185-efd5f1dea384",
   "metadata": {},
   "outputs": [
    {
     "ename": "KeyboardInterrupt",
     "evalue": "",
     "output_type": "error",
     "traceback": [
      "\u001b[1;31m---------------------------------------------------------------------------\u001b[0m",
      "\u001b[1;31mKeyboardInterrupt\u001b[0m                         Traceback (most recent call last)",
      "File \u001b[1;32m~\\AppData\\Local\\anaconda3\\envs\\wokring\\lib\\site-packages\\IPython\\core\\async_helpers.py:129\u001b[0m, in \u001b[0;36m_pseudo_sync_runner\u001b[1;34m(coro)\u001b[0m\n\u001b[0;32m    121\u001b[0m \u001b[38;5;250m\u001b[39m\u001b[38;5;124;03m\"\"\"\u001b[39;00m\n\u001b[0;32m    122\u001b[0m \u001b[38;5;124;03mA runner that does not really allow async execution, and just advance the coroutine.\u001b[39;00m\n\u001b[0;32m    123\u001b[0m \n\u001b[1;32m   (...)\u001b[0m\n\u001b[0;32m    126\u001b[0m \u001b[38;5;124;03mCredit to Nathaniel Smith\u001b[39;00m\n\u001b[0;32m    127\u001b[0m \u001b[38;5;124;03m\"\"\"\u001b[39;00m\n\u001b[0;32m    128\u001b[0m \u001b[38;5;28;01mtry\u001b[39;00m:\n\u001b[1;32m--> 129\u001b[0m     \u001b[43mcoro\u001b[49m\u001b[38;5;241;43m.\u001b[39;49m\u001b[43msend\u001b[49m\u001b[43m(\u001b[49m\u001b[38;5;28;43;01mNone\u001b[39;49;00m\u001b[43m)\u001b[49m\n\u001b[0;32m    130\u001b[0m \u001b[38;5;28;01mexcept\u001b[39;00m \u001b[38;5;167;01mStopIteration\u001b[39;00m \u001b[38;5;28;01mas\u001b[39;00m exc:\n\u001b[0;32m    131\u001b[0m     \u001b[38;5;28;01mreturn\u001b[39;00m exc\u001b[38;5;241m.\u001b[39mvalue\n",
      "File \u001b[1;32m~\\AppData\\Local\\anaconda3\\envs\\wokring\\lib\\site-packages\\IPython\\core\\interactiveshell.py:3282\u001b[0m, in \u001b[0;36mInteractiveShell.run_cell_async\u001b[1;34m(self, raw_cell, store_history, silent, shell_futures, transformed_cell, preprocessing_exc_tuple, cell_id)\u001b[0m\n\u001b[0;32m   3277\u001b[0m         \u001b[38;5;28mself\u001b[39m\u001b[38;5;241m.\u001b[39mdisplayhook\u001b[38;5;241m.\u001b[39mexec_result \u001b[38;5;241m=\u001b[39m \u001b[38;5;28;01mNone\u001b[39;00m\n\u001b[0;32m   3279\u001b[0m \u001b[38;5;28;01mif\u001b[39;00m store_history:\n\u001b[0;32m   3280\u001b[0m     \u001b[38;5;66;03m# Write output to the database. Does nothing unless\u001b[39;00m\n\u001b[0;32m   3281\u001b[0m     \u001b[38;5;66;03m# history output logging is enabled.\u001b[39;00m\n\u001b[1;32m-> 3282\u001b[0m     \u001b[38;5;28;43mself\u001b[39;49m\u001b[38;5;241;43m.\u001b[39;49m\u001b[43mhistory_manager\u001b[49m\u001b[38;5;241m.\u001b[39mstore_output(\u001b[38;5;28mself\u001b[39m\u001b[38;5;241m.\u001b[39mexecution_count)\n\u001b[0;32m   3283\u001b[0m     \u001b[38;5;66;03m# Each cell is a *single* input, regardless of how many lines it has\u001b[39;00m\n\u001b[0;32m   3284\u001b[0m     \u001b[38;5;28mself\u001b[39m\u001b[38;5;241m.\u001b[39mexecution_count \u001b[38;5;241m+\u001b[39m\u001b[38;5;241m=\u001b[39m \u001b[38;5;241m1\u001b[39m\n",
      "File \u001b[1;32m~\\AppData\\Local\\anaconda3\\envs\\wokring\\lib\\site-packages\\traitlets\\traitlets.py:687\u001b[0m, in \u001b[0;36mTraitType.__get__\u001b[1;34m(self, obj, cls)\u001b[0m\n\u001b[0;32m    685\u001b[0m     \u001b[38;5;28;01mreturn\u001b[39;00m \u001b[38;5;28mself\u001b[39m\n\u001b[0;32m    686\u001b[0m \u001b[38;5;28;01melse\u001b[39;00m:\n\u001b[1;32m--> 687\u001b[0m     \u001b[38;5;28;01mreturn\u001b[39;00m t\u001b[38;5;241m.\u001b[39mcast(G, \u001b[38;5;28;43mself\u001b[39;49m\u001b[38;5;241;43m.\u001b[39;49m\u001b[43mget\u001b[49m\u001b[43m(\u001b[49m\u001b[43mobj\u001b[49m\u001b[43m,\u001b[49m\u001b[43m \u001b[49m\u001b[38;5;28;43mcls\u001b[39;49m\u001b[43m)\u001b[49m)\n",
      "File \u001b[1;32m~\\AppData\\Local\\anaconda3\\envs\\wokring\\lib\\site-packages\\traitlets\\traitlets.py:630\u001b[0m, in \u001b[0;36mTraitType.get\u001b[1;34m(self, obj, cls)\u001b[0m\n\u001b[0;32m    629\u001b[0m \u001b[38;5;28;01mdef\u001b[39;00m \u001b[38;5;21mget\u001b[39m(\u001b[38;5;28mself\u001b[39m, obj: HasTraits, \u001b[38;5;28mcls\u001b[39m: \u001b[38;5;28mtype\u001b[39m[t\u001b[38;5;241m.\u001b[39mAny] \u001b[38;5;241m|\u001b[39m \u001b[38;5;28;01mNone\u001b[39;00m \u001b[38;5;241m=\u001b[39m \u001b[38;5;28;01mNone\u001b[39;00m) \u001b[38;5;241m-\u001b[39m\u001b[38;5;241m>\u001b[39m G \u001b[38;5;241m|\u001b[39m \u001b[38;5;28;01mNone\u001b[39;00m:\n\u001b[1;32m--> 630\u001b[0m     \u001b[38;5;28;01massert\u001b[39;00m \u001b[38;5;28;43mself\u001b[39;49m\u001b[38;5;241;43m.\u001b[39;49m\u001b[43mname\u001b[49m \u001b[38;5;129;01mis\u001b[39;00m \u001b[38;5;129;01mnot\u001b[39;00m \u001b[38;5;28;01mNone\u001b[39;00m\n\u001b[0;32m    631\u001b[0m     \u001b[38;5;28;01mtry\u001b[39;00m:\n\u001b[0;32m    632\u001b[0m         value \u001b[38;5;241m=\u001b[39m obj\u001b[38;5;241m.\u001b[39m_trait_values[\u001b[38;5;28mself\u001b[39m\u001b[38;5;241m.\u001b[39mname]\n",
      "\u001b[1;31mKeyboardInterrupt\u001b[0m: "
     ]
    }
   ],
   "source": [
    "tf.random.set_seed(7)"
   ]
  },
  {
   "cell_type": "code",
   "execution_count": 903,
   "id": "dfcc0adc-004a-44bd-85cf-b8999eb35591",
   "metadata": {},
   "outputs": [],
   "source": [
    "def read_data(path, dim_type, gold_data=None, fed_rate=None, use_percentage=1):\n",
    "    '''\n",
    "    读取数据(详细说明)\n",
    "    '''\n",
    "    df = pd.read_csv(path)\n",
    "    data_len = df.shape[0]\n",
    "    data = None\n",
    "    if dim_type!='Multi':\n",
    "        data = df[dim_type].values.reshape((data_len, 1))\n",
    "    else:\n",
    "        # Multi\n",
    "        df[\"date\"]=pd.to_datetime(df[\"date\"], format='%Y-%m-%d %H:%M:%S').dt.strftime('%Y-%m-%d %H:%M:%S')\n",
    "        #df['CO'] = df['Close'] - df['Open']\n",
    "        #diff_data = df['CO'].values.reshape((data_len, 1))\n",
    "        open_data = df[\"open\"].values.reshape((data_len, 1))\n",
    "        high_data = df[\"high\"].values.reshape((data_len, 1))\n",
    "        low_data = df[\"low\"].values.reshape((data_len, 1))\n",
    "        close_data = df[\"close\"].values.reshape((data_len, 1))\n",
    "        volume_data = df[\"volume\"].values.reshape((data_len, 1))\n",
    "        if gold_data is not None:\n",
    "            gold_data['Date']=gold_data['Date'].dt.strftime('%Y-%m-%d')\n",
    "            df['Gold']=df['Date']\n",
    "            \n",
    "            # calc the gold series\n",
    "            df['Gold'] = df['Gold'].apply(lambda x: gold_data['Close'][x==gold_data['Date']].values[0] if x in gold_data['Date'].values else np.nan)  \n",
    "            # fillna using interpolating\n",
    "            df['Gold'] = df['Gold'].interpolate(limit_direction=\"both\")\n",
    "\n",
    "            gold_data_fill=df[\"Gold\"].values.reshape((data_len, 1))\n",
    "            if fed_rate is not None:\n",
    "                fed_rate['DATE']=fed_rate['DATE'].dt.strftime('%Y-%m-%d')\n",
    "                df['fed']=df['Date']\n",
    "                \n",
    "                # calc the gold series\n",
    "                df['fed'] = df['fed'].apply(lambda x: fed_rate['FEDFUNDS'][x==fed_rate['DATE']].values[0] if x in fed_rate['DATE'].values else np.nan)  \n",
    "                # fillna using interpolating\n",
    "                df['fed'] = df['fed'].interpolate(limit_direction=\"both\")\n",
    "    \n",
    "                fed_data=df[\"fed\"].values.reshape((data_len, 1))\n",
    "                data = np.hstack((close_data, open_data, high_data, low_data, volume_data, gold_data_fill, fed_data))\n",
    "            else:\n",
    "                data = np.hstack((close_data, open_data, high_data, low_data, volume_data, gold_data_fill))\n",
    "        else:\n",
    "            data = np.hstack((close_data, open_data, high_data, low_data, volume_data))\n",
    "    return data[0:int(np.floor(data_len * use_percentage))], np.floor(data_len * use_percentage)\n"
   ]
  },
  {
   "cell_type": "code",
   "execution_count": 904,
   "id": "6361265a-77c4-4707-9372-21e2a40ac463",
   "metadata": {},
   "outputs": [],
   "source": [
    "def split_sequence(sequence, dim_type, n_steps_in, n_steps_out):\n",
    "    X, y = list(), list()\n",
    "    for i in range(len(sequence)):\n",
    "        # find the end of the input pattern\n",
    "        end_ix = i + n_steps_in\n",
    "        # find the end of the output pattern\n",
    "        out_end_ix = end_ix + n_steps_out\n",
    "        # check if we are beyond the dataset\n",
    "        if out_end_ix > len(sequence):\n",
    "            break\n",
    "        if dim_type == 'Multi':\n",
    "            # gather input and output parts of the pattern\n",
    "            seq_x = sequence[i:end_ix, 1:]\n",
    "            seq_y = sequence[end_ix:out_end_ix, 0]\n",
    "        else:\n",
    "            seq_x, seq_y = sequence[i:end_ix], sequence[end_ix:out_end_ix]\n",
    "        X.append(seq_x)\n",
    "        y.append(seq_y)\n",
    "    return np.array(X), np.array(y)\n",
    "\n",
    "def data_trasform(data, anti=False, scaler=None):\n",
    "    '''\n",
    "    说明以及例子\n",
    "    MinMax data and anti MinMax data\n",
    "    :param data: the data source\n",
    "    :param model: MinMax and anti MinMax\n",
    "    :param scaler: anti MinMax scaler\n",
    "    :return: the transformed data\n",
    "\n",
    "    '''\n",
    "    if not anti:\n",
    "        # 归一化\n",
    "        # 创建一个空字典来存储每一列的 scaler\n",
    "        scalers = {}\n",
    "        # 归一化数据的容器\n",
    "        normalized_data = np.zeros_like(data)\n",
    "        # 循环每一列\n",
    "        for i in range(data.shape[1]):  # data.shape[1] 是列的数量\n",
    "            # 为每一列创建一个新的 MinMaxScaler\n",
    "            scaler = MinMaxScaler()\n",
    "            # 将列数据调整为正确的形状，即(-1, 1)\n",
    "            column_data = data[:, i].reshape(-1, 1)\n",
    "            # 拟合并转换数据\n",
    "            normalized_column = scaler.fit_transform(column_data)\n",
    "            # 将归一化的数据存回容器中\n",
    "            normalized_data[:, i] = normalized_column.ravel()\n",
    "            # 存储scaler以便后续使用\n",
    "            scalers[i] = scaler\n",
    "        # 现在 normalized_data 是完全归一化的数据\n",
    "        # scalers 字典包含每一列的 MinMaxScaler 实例\n",
    "        return normalized_data, scalers\n",
    "    else:\n",
    "        # 反归一化\n",
    "        # 如果data是三维数组，去除最后一个维度\n",
    "        if data.ndim == 3 and data.shape[2] == 1:\n",
    "            data = data.squeeze(axis=2)\n",
    "\n",
    "        restored_data = np.zeros_like(data)\n",
    "        for i in range(data.shape[1]):  # 遍历所有列\n",
    "            column_data = data[:, i].reshape(-1, 1)\n",
    "            restored_data[:, i] = scaler.inverse_transform(column_data).ravel()\n",
    "        return restored_data\n",
    "\n",
    "def create_transformer_model(input_seq_length, output_seq_length, num_features, d_model, num_heads, ff_dim,\n",
    "                             num_transformer_blocks, dropout_rate=0.1):\n",
    "    inputs = Input(shape=(input_seq_length, num_features))\n",
    "\n",
    "    x = Dense(d_model)(inputs)\n",
    "\n",
    "    for _ in range(num_transformer_blocks):\n",
    "        attn_output = MultiHeadAttention(num_heads=num_heads, key_dim=d_model)(x, x)\n",
    "        attn_output = Dropout(dropout_rate)(attn_output)  # Dropout after attention\n",
    "        x = LayerNormalization(epsilon=1e-6)(x + attn_output)\n",
    "\n",
    "        ff_output = Dense(ff_dim, activation=\"relu\")(x)\n",
    "        ff_output = Dropout(dropout_rate)(ff_output)  # Dropout after first dense layer\n",
    "        ff_output = Dense(d_model)(ff_output)\n",
    "\n",
    "        x = LayerNormalization(epsilon=1e-6)(x + ff_output)\n",
    "\n",
    "    outputs = Dense(output_seq_length)(x[:, -1, :])  # We take the last step's output for forecasting\n",
    "    model = Model(inputs, outputs)\n",
    "    return model\n",
    "\n",
    "def create_model(model_type, n_features, n_steps_in, n_steps_out):\n",
    "    '''\n",
    "        create model\n",
    "        :param model_type:  LSTM,BD LSTM(bidirectional LSTM),ED LSTM(Encoder-Decoder LSTM),CNN\n",
    "        :param n_features:\n",
    "        :param n_steps_in:\n",
    "        :param n_steps_out:\n",
    "        :return: the created model\n",
    "    '''\n",
    "    model = Sequential()\n",
    "    adam_optimizer = Adam(learning_rate=0.001)\n",
    "    if model_type == 'LSTM':\n",
    "        # LSTM\n",
    "        model.add(LSTM(100, activation='sigmoid', return_sequences=True, input_shape=(n_steps_in, n_features)))\n",
    "        model.add(LSTM(100, activation='sigmoid'))\n",
    "        model.add(Dense(n_steps_out))\n",
    "\n",
    "    elif model_type == 'BD LSTM':\n",
    "        # bidirectional LSTM\n",
    "        model.add(Bidirectional(LSTM(50, activation='sigmoid'), input_shape=(n_steps_in, n_features)))\n",
    "        model.add(Dense(n_steps_out))\n",
    "\n",
    "    elif model_type == 'ED LSTM':\n",
    "        # Encoder-Decoder LSTM\n",
    "        # Encoder\n",
    "        model.add(LSTM(100, activation='sigmoid', input_shape=(n_steps_in, n_features)))\n",
    "        # Connector\n",
    "        model.add(RepeatVector(n_steps_out))\n",
    "        # Decoder\n",
    "        model.add(LSTM(100, activation='sigmoid', return_sequences=True))\n",
    "        model.add(TimeDistributed(Dense(1)))\n",
    "\n",
    "    elif model_type == 'CNN':\n",
    "        # CNN\n",
    "        model.add(Conv1D(filters=64, kernel_size=2, activation='relu', input_shape=(n_steps_in, n_features)))\n",
    "        model.add(MaxPooling1D(pool_size=2))\n",
    "        model.add(Flatten())\n",
    "        model.add(Dense(20, activation='relu'))\n",
    "        model.add(Dense(n_steps_out))\n",
    "\n",
    "    elif model_type == 'Convolutional LSTM':\n",
    "        # Convolutional LSTM\n",
    "        model.add(Conv1D(filters=64, kernel_size=2, activation='relu', input_shape=(n_steps_in, n_features)))\n",
    "        model.add(LSTM(20, activation='relu', return_sequences=False))\n",
    "        model.add(Dense(20, activation='relu'))\n",
    "        model.add(Dense(n_steps_out))\n",
    "\n",
    "    elif model_type == 'Transformer':\n",
    "        model = create_transformer_model(n_steps_in, n_steps_out, n_features, d_model=64,\n",
    "                                         num_heads=12, ff_dim=64, num_transformer_blocks=3)\n",
    "\n",
    "    elif model_type == 'MLP':\n",
    "        # 多层感知机 (MLP)\n",
    "        model.add(Dense(20, activation='relu', input_shape=(n_steps_in, n_features)))\n",
    "        model.add(Flatten())\n",
    "        model.add(Dense(20, activation='relu'))\n",
    "        model.add(Dense(n_steps_out))\n",
    "\n",
    "    elif model_type == 'ARIMA':\n",
    "        if n_features != 1:\n",
    "            print(\"ARIMA model only supports univariate time series data\")\n",
    "            print(\"ARIMA model has no parameter n_steps_in\")\n",
    "            return None\n",
    "        model = 'ARIMA'\n",
    "        return model\n",
    "    \n",
    "    else:\n",
    "        print(\"no model\")\n",
    "    model.compile(optimizer=adam_optimizer, loss='mse')\n",
    "    return model\n",
    "\n",
    "\n",
    "def train_and_forecast(model, n_features, dim_type, data_X, data_Y, n_steps_in, n_steps_out, ech):\n",
    "    # 训练模型\n",
    "    # 隐藏输出\n",
    "    sys.stdout = open(os.devnull, 'w')\n",
    "    sys.stderr = open(os.devnull, 'w')\n",
    "\n",
    "    X, y = split_sequence(data_X, dim_type, n_steps_in, n_steps_out)\n",
    "    # 对于多维数据，调整最后一个维度为特征数\n",
    "    X = X.reshape((X.shape[0], X.shape[1], n_features))\n",
    "\n",
    "#######################################################################################\n",
    "    if model == 'ARIMA':\n",
    "        # 检查数据是否平稳\n",
    "        fig = plt.figure(figsize=(12, 8))\n",
    "        ax1 = fig.add_subplot(211)\n",
    "        fig = sm.graphics.tsa.plot_acf(data_X.squeeze(), lags=40, ax=ax1)\n",
    "        ax2 = fig.add_subplot(212)\n",
    "        fig = sm.graphics.tsa.plot_pacf(data_X, lags=40, ax=ax2)\n",
    "        \n",
    "        # # 自动确定 ARIMA 模型的参数\n",
    "        # auto_model = auto_arima(data_X, seasonal=False, trace=True, error_action='ignore', suppress_warnings=True)\n",
    "        # # 输出最佳 ARIMA 模型的参数\n",
    "        # print(auto_model.summary())\n",
    "        \n",
    "        # 使用最佳参数拟合 ARIMA 模型\n",
    "        # ARIMA 模型只接受单变量时间序列，这里假设 data_X 和 data_Y 是一维数组\n",
    "        # order = auto_model.order\n",
    "        order = (6,1,6)\n",
    "        arma_model = ARIMA(data_X, order=order)\n",
    "        model_fit = arma_model.fit()\n",
    "        # 拟合结果\n",
    "        fit_result = model_fit.fittedvalues\n",
    "        # 使用模型进行滚动预测\n",
    "        history = list(data_X)\n",
    "        test_result = []\n",
    "        for t in range(len(data_Y)):\n",
    "            model = ARIMA(history, order=order)\n",
    "            model_fit = model.fit()\n",
    "            output = model_fit.forecast(n_steps_out)\n",
    "            test_result.append(output)\n",
    "            history.append(data_Y[t])  # 更新历史数据\n",
    "        test_result = np.array(test_result)\n",
    "        fit_result = fit_result.reshape(len(fit_result), 1)\n",
    "        return fit_result, test_result\n",
    "#######################################################################################\n",
    "\n",
    "    # 训练模型\n",
    "    model.fit(X, y, epochs=ech, batch_size=32, verbose=1)\n",
    "\n",
    "    # 拟合结果\n",
    "    fit_result = []\n",
    "    for index, ele in enumerate(X):\n",
    "        print(f'Fitting {index}th data')\n",
    "        pred = model.predict(ele.reshape((1, n_steps_in, n_features)))\n",
    "        fit_result.append(pred)\n",
    "    fr = np.array(fit_result)\n",
    "    fit_result = fr.reshape(len(fit_result), n_steps_out)\n",
    "    # 测试结果\n",
    "    test_x, test_y = split_sequence(data_Y, dim_type, n_steps_in, n_steps_out)\n",
    "    test_x = test_x.reshape((test_x.shape[0], test_x.shape[1], n_features))\n",
    "    test_result = []\n",
    "    for index, ele in enumerate(test_x):\n",
    "        print(f'Predicting {index}th data')\n",
    "        pred = model.predict(ele.reshape((1, n_steps_in, n_features)))\n",
    "        test_result.append(pred)\n",
    "    tr = np.array(test_result)\n",
    "    test_result = tr.reshape(len(test_result), n_steps_out)\n",
    "\n",
    "    # 恢复输出\n",
    "    sys.stdout = sys.__stdout__\n",
    "    sys.stderr = sys.__stderr__\n",
    "    return fit_result, test_result\n",
    "\n",
    "def eval_result(result, n_steps_out, target, mode):\n",
    "    '''\n",
    "    evaluate the modl resule\n",
    "    :param result:the model result\n",
    "    :param n_steps_out:the days you predict\n",
    "    :param target:the ground-true\n",
    "    :param mode:the type of evaluation(you can choose 0：rmse,1：mape)\n",
    "    :return:the evaluation result\n",
    "    '''\n",
    "    if mode==0:\n",
    "        # return rmse result\n",
    "        # 归一化\n",
    "        result, _ = data_trasform(result)\n",
    "        target, _ = data_trasform(target)\n",
    "        # 下面需要修改\n",
    "        rmse = []\n",
    "        for i in range(n_steps_out):\n",
    "            rmse.append(np.sqrt(np.mean((result[:, i] - target[:, i]) ** 2)))\n",
    "        return rmse\n",
    "\n",
    "    elif mode==1:\n",
    "        # return MAPE result\n",
    "        result = result + 0.0000001\n",
    "        target = target + 0.0000001\n",
    "        mape = []\n",
    "        for i in range(n_steps_out):\n",
    "            mape.append(np.mean(np.abs((target[:, i] - result[:, i]) / target[:, i])) * 100)\n",
    "        return mape\n",
    "    else:\n",
    "        return None"
   ]
  },
  {
   "cell_type": "code",
   "execution_count": 7,
   "id": "0663b7ba-c541-4988-a87d-a343649dc403",
   "metadata": {},
   "outputs": [],
   "source": [
    "# add the prediction column to the test_dataset\n",
    "def update_prediction(test_dataset, test_result, n_steps_in):\n",
    "    updateted_dataset = test_dataset[n_steps_in:]\n",
    "    test_result_list = test_result.tolist()\n",
    "    t_list = list()\n",
    "    for i in range(len(test_result_list)):\n",
    "        number = test_result_list[i][0]\n",
    "        t_list.append(number)\n",
    "    updateted_dataset['prediction'] = t_list \n",
    "    return updateted_dataset"
   ]
  },
  {
   "cell_type": "code",
   "execution_count": 8,
   "id": "0dca851f-0c9a-461a-b9dc-3c766cdf2e7e",
   "metadata": {},
   "outputs": [],
   "source": [
    "df = pd.read_csv('~\\.qlib\\csv_data\\crypto_data_60\\BTC.csv')\n",
    "df_btc = df[['date', 'symbol', 'open', 'high', 'low', 'close', 'volume']]"
   ]
  },
  {
   "cell_type": "code",
   "execution_count": 9,
   "id": "7aa9747d-9d5f-42b4-b1f2-6963c0f66b02",
   "metadata": {},
   "outputs": [
    {
     "data": {
      "text/html": [
       "<div>\n",
       "<style scoped>\n",
       "    .dataframe tbody tr th:only-of-type {\n",
       "        vertical-align: middle;\n",
       "    }\n",
       "\n",
       "    .dataframe tbody tr th {\n",
       "        vertical-align: top;\n",
       "    }\n",
       "\n",
       "    .dataframe thead th {\n",
       "        text-align: right;\n",
       "    }\n",
       "</style>\n",
       "<table border=\"1\" class=\"dataframe\">\n",
       "  <thead>\n",
       "    <tr style=\"text-align: right;\">\n",
       "      <th></th>\n",
       "      <th>date</th>\n",
       "      <th>symbol</th>\n",
       "      <th>open</th>\n",
       "      <th>high</th>\n",
       "      <th>low</th>\n",
       "      <th>close</th>\n",
       "      <th>volume</th>\n",
       "    </tr>\n",
       "  </thead>\n",
       "  <tbody>\n",
       "    <tr>\n",
       "      <th>0</th>\n",
       "      <td>2017-08-17 04:00:00</td>\n",
       "      <td>BTC</td>\n",
       "      <td>4261.48</td>\n",
       "      <td>4313.62</td>\n",
       "      <td>4261.32</td>\n",
       "      <td>4308.83</td>\n",
       "      <td>47.181009</td>\n",
       "    </tr>\n",
       "    <tr>\n",
       "      <th>1</th>\n",
       "      <td>2017-08-17 05:00:00</td>\n",
       "      <td>BTC</td>\n",
       "      <td>4308.83</td>\n",
       "      <td>4328.69</td>\n",
       "      <td>4291.37</td>\n",
       "      <td>4315.32</td>\n",
       "      <td>23.234916</td>\n",
       "    </tr>\n",
       "    <tr>\n",
       "      <th>2</th>\n",
       "      <td>2017-08-17 06:00:00</td>\n",
       "      <td>BTC</td>\n",
       "      <td>4330.29</td>\n",
       "      <td>4345.45</td>\n",
       "      <td>4309.37</td>\n",
       "      <td>4324.35</td>\n",
       "      <td>7.229691</td>\n",
       "    </tr>\n",
       "    <tr>\n",
       "      <th>3</th>\n",
       "      <td>2017-08-17 07:00:00</td>\n",
       "      <td>BTC</td>\n",
       "      <td>4316.62</td>\n",
       "      <td>4349.99</td>\n",
       "      <td>4287.41</td>\n",
       "      <td>4349.99</td>\n",
       "      <td>4.443249</td>\n",
       "    </tr>\n",
       "    <tr>\n",
       "      <th>4</th>\n",
       "      <td>2017-08-17 08:00:00</td>\n",
       "      <td>BTC</td>\n",
       "      <td>4333.32</td>\n",
       "      <td>4377.85</td>\n",
       "      <td>4333.32</td>\n",
       "      <td>4360.69</td>\n",
       "      <td>0.972807</td>\n",
       "    </tr>\n",
       "    <tr>\n",
       "      <th>...</th>\n",
       "      <td>...</td>\n",
       "      <td>...</td>\n",
       "      <td>...</td>\n",
       "      <td>...</td>\n",
       "      <td>...</td>\n",
       "      <td>...</td>\n",
       "      <td>...</td>\n",
       "    </tr>\n",
       "    <tr>\n",
       "      <th>60662</th>\n",
       "      <td>2024-07-24 02:00:00</td>\n",
       "      <td>BTC</td>\n",
       "      <td>65666.01</td>\n",
       "      <td>65928.01</td>\n",
       "      <td>65476.84</td>\n",
       "      <td>65878.16</td>\n",
       "      <td>672.373340</td>\n",
       "    </tr>\n",
       "    <tr>\n",
       "      <th>60663</th>\n",
       "      <td>2024-07-24 03:00:00</td>\n",
       "      <td>BTC</td>\n",
       "      <td>65878.16</td>\n",
       "      <td>66111.50</td>\n",
       "      <td>65784.53</td>\n",
       "      <td>66052.71</td>\n",
       "      <td>601.260330</td>\n",
       "    </tr>\n",
       "    <tr>\n",
       "      <th>60664</th>\n",
       "      <td>2024-07-24 04:00:00</td>\n",
       "      <td>BTC</td>\n",
       "      <td>66052.71</td>\n",
       "      <td>66072.01</td>\n",
       "      <td>65791.42</td>\n",
       "      <td>65860.00</td>\n",
       "      <td>571.421180</td>\n",
       "    </tr>\n",
       "    <tr>\n",
       "      <th>60665</th>\n",
       "      <td>2024-07-24 05:00:00</td>\n",
       "      <td>BTC</td>\n",
       "      <td>65860.01</td>\n",
       "      <td>65914.49</td>\n",
       "      <td>65610.00</td>\n",
       "      <td>65814.01</td>\n",
       "      <td>673.836710</td>\n",
       "    </tr>\n",
       "    <tr>\n",
       "      <th>60666</th>\n",
       "      <td>2024-07-24 06:00:00</td>\n",
       "      <td>BTC</td>\n",
       "      <td>65814.01</td>\n",
       "      <td>65999.00</td>\n",
       "      <td>65762.01</td>\n",
       "      <td>65935.09</td>\n",
       "      <td>330.742430</td>\n",
       "    </tr>\n",
       "  </tbody>\n",
       "</table>\n",
       "<p>60667 rows × 7 columns</p>\n",
       "</div>"
      ],
      "text/plain": [
       "                      date symbol      open      high       low     close  \\\n",
       "0      2017-08-17 04:00:00    BTC   4261.48   4313.62   4261.32   4308.83   \n",
       "1      2017-08-17 05:00:00    BTC   4308.83   4328.69   4291.37   4315.32   \n",
       "2      2017-08-17 06:00:00    BTC   4330.29   4345.45   4309.37   4324.35   \n",
       "3      2017-08-17 07:00:00    BTC   4316.62   4349.99   4287.41   4349.99   \n",
       "4      2017-08-17 08:00:00    BTC   4333.32   4377.85   4333.32   4360.69   \n",
       "...                    ...    ...       ...       ...       ...       ...   \n",
       "60662  2024-07-24 02:00:00    BTC  65666.01  65928.01  65476.84  65878.16   \n",
       "60663  2024-07-24 03:00:00    BTC  65878.16  66111.50  65784.53  66052.71   \n",
       "60664  2024-07-24 04:00:00    BTC  66052.71  66072.01  65791.42  65860.00   \n",
       "60665  2024-07-24 05:00:00    BTC  65860.01  65914.49  65610.00  65814.01   \n",
       "60666  2024-07-24 06:00:00    BTC  65814.01  65999.00  65762.01  65935.09   \n",
       "\n",
       "           volume  \n",
       "0       47.181009  \n",
       "1       23.234916  \n",
       "2        7.229691  \n",
       "3        4.443249  \n",
       "4        0.972807  \n",
       "...           ...  \n",
       "60662  672.373340  \n",
       "60663  601.260330  \n",
       "60664  571.421180  \n",
       "60665  673.836710  \n",
       "60666  330.742430  \n",
       "\n",
       "[60667 rows x 7 columns]"
      ]
     },
     "execution_count": 9,
     "metadata": {},
     "output_type": "execute_result"
    }
   ],
   "source": [
    "df_btc"
   ]
  },
  {
   "cell_type": "code",
   "execution_count": 10,
   "id": "b68a75fb-dfbe-4720-9608-52f70db563da",
   "metadata": {},
   "outputs": [],
   "source": [
    "path = '~\\.qlib\\csv_data\\crypto_data_60\\BTC.csv'\n",
    "gold_data = None \n",
    "fed_rate = None \n",
    "dim_type = 'Multi'\n",
    "use_percentage = 1\n",
    "\n",
    "n_steps_in = 24  # take prior 24 values as input \n",
    "n_steps_out = 12 # predict t+12 value \n",
    "\n",
    "percentage = 0.7  # 训练集百分比\n",
    "epochs = 25  # 迭代次数\n",
    "#rounds = 3  # Number of exp"
   ]
  },
  {
   "cell_type": "code",
   "execution_count": 11,
   "id": "c1528545-689b-464d-a759-8d587c46ca0e",
   "metadata": {},
   "outputs": [],
   "source": [
    "data, data_len = read_data(path, dim_type, gold_data, fed_rate, use_percentage)\n",
    "data, scalers = data_trasform(data)\n",
    "\n",
    "# split into train and test\n",
    "train_set = data[0:int(np.floor(data_len * percentage))]  # 训练集\n",
    "test_set = data[int(np.floor(data_len * percentage)):]  # 测试集"
   ]
  },
  {
   "cell_type": "code",
   "execution_count": 12,
   "id": "b2607e0d-d3ce-4b24-adc6-2b9c4150aa2d",
   "metadata": {},
   "outputs": [
    {
     "data": {
      "text/plain": [
       "array([[1.96697206e-02, 1.96669469e-02, 1.92528273e-02, 2.05164511e-02,\n",
       "        3.43866888e-04],\n",
       "       [1.97615710e-02, 2.03366171e-02, 1.94655993e-02, 2.09433090e-02,\n",
       "        1.69341827e-04],\n",
       "       [1.98893691e-02, 2.06401255e-02, 1.97022322e-02, 2.11989976e-02,\n",
       "        5.26917800e-05],\n",
       "       ...,\n",
       "       [2.58534766e-01, 2.60086032e-01, 2.58644444e-01, 2.59925901e-01,\n",
       "        1.56155952e-02],\n",
       "       [2.59907003e-01, 2.59039168e-01, 2.59210329e-01, 2.60882177e-01,\n",
       "        8.63887652e-03],\n",
       "       [2.61578851e-01, 2.60410472e-01, 2.60846852e-01, 2.61652652e-01,\n",
       "        1.02422107e-02]])"
      ]
     },
     "execution_count": 12,
     "metadata": {},
     "output_type": "execute_result"
    }
   ],
   "source": [
    "train_set"
   ]
  },
  {
   "cell_type": "code",
   "execution_count": 13,
   "id": "17564055-63ba-44a3-b755-d9f37fceede2",
   "metadata": {},
   "outputs": [],
   "source": [
    "test_bit_data = df_btc[int(np.floor(data_len * percentage)):]"
   ]
  },
  {
   "cell_type": "code",
   "execution_count": 14,
   "id": "eb7a21d8-e2ad-4892-926e-db9e8188b09b",
   "metadata": {},
   "outputs": [],
   "source": [
    "n_features = len(train_set[0]) - 1 if len(train_set[0]) > 1 else 1 # features of the input "
   ]
  },
  {
   "cell_type": "code",
   "execution_count": 15,
   "id": "aa6827bd-5350-481e-8a63-95d79ed2c8ba",
   "metadata": {},
   "outputs": [],
   "source": [
    "model_type =['LSTM', 'BD LSTM', 'CNN', 'MLP', 'ED LSTM', 'Convolutional LSTM']"
   ]
  },
  {
   "cell_type": "code",
   "execution_count": 16,
   "id": "0ca7a2f5-5570-458f-927a-dbb74acfcc22",
   "metadata": {},
   "outputs": [],
   "source": [
    "model_use = model_type[5]\n",
    "Model = create_model(model_use, n_features, n_steps_in, n_steps_out)\n",
    "\n",
    "train_result, test_result = train_and_forecast(Model, n_features, dim_type, train_set, test_set, n_steps_in,\n",
    "                                                n_steps_out, epochs)\n",
    "\n",
    "# ----------------------evaluation--------------------\n",
    "train_result = data_trasform(train_result, True, scalers[0])  # 反归一化\n",
    "test_result = data_trasform(test_result, True, scalers[0])  # 反归一化\n",
    "\n",
    "test_result_list = test_result.tolist()\n",
    "t_list = list()\n",
    "for j in range(len(test_result_list)):\n",
    "    number = test_result_list[j][0]\n",
    "    t_list.append(number)\n",
    "#update_dataset_model[pred_name[i]] = t_list"
   ]
  },
  {
   "cell_type": "code",
   "execution_count": 27,
   "id": "bedd5131-54e3-4e30-92a7-6c5fa249e00b",
   "metadata": {},
   "outputs": [
    {
     "data": {
      "text/plain": [
       "18172"
      ]
     },
     "execution_count": 27,
     "metadata": {},
     "output_type": "execute_result"
    }
   ],
   "source": [
    "len(test_result_list)"
   ]
  },
  {
   "cell_type": "code",
   "execution_count": 20,
   "id": "a2b14a80-5561-4a7d-841c-a05bd3080a75",
   "metadata": {},
   "outputs": [
    {
     "data": {
      "text/plain": [
       "18177"
      ]
     },
     "execution_count": 20,
     "metadata": {},
     "output_type": "execute_result"
    }
   ],
   "source": [
    "len(update_dataset_model)"
   ]
  },
  {
   "cell_type": "code",
   "execution_count": 310,
   "id": "b82d7937-1021-4108-8704-342ce09c6896",
   "metadata": {},
   "outputs": [
    {
     "data": {
      "text/plain": [
       "18172"
      ]
     },
     "execution_count": 310,
     "metadata": {},
     "output_type": "execute_result"
    }
   ],
   "source": [
    "len(t_list)"
   ]
  },
  {
   "cell_type": "code",
   "execution_count": 28,
   "id": "6a23164d-26b7-4811-8479-0b01e6cf0e0f",
   "metadata": {},
   "outputs": [],
   "source": [
    "t_list_6 = list()\n",
    "for j in range(len(test_result_list)):\n",
    "    number = test_result_list[j][5]\n",
    "    t_list_6.append(number)"
   ]
  },
  {
   "cell_type": "code",
   "execution_count": 320,
   "id": "9d11fd05-a06c-4bf4-a95c-1544adca7249",
   "metadata": {},
   "outputs": [],
   "source": [
    "t_list_5 = list()\n",
    "for j in range(len(test_result_list)):\n",
    "    number = test_result_list[j][4]\n",
    "    t_list_5.append(number)"
   ]
  },
  {
   "cell_type": "code",
   "execution_count": 321,
   "id": "b6b311b4-2749-4c6e-a107-e93402de8a66",
   "metadata": {},
   "outputs": [],
   "source": [
    "t_list_4 = list()\n",
    "for j in range(len(test_result_list)):\n",
    "    number = test_result_list[j][3]\n",
    "    t_list_4.append(number)"
   ]
  },
  {
   "cell_type": "code",
   "execution_count": 322,
   "id": "3b35844a-e649-41ce-ae05-8cc86994e8c2",
   "metadata": {},
   "outputs": [],
   "source": [
    "t_list_3 = list()\n",
    "for j in range(len(test_result_list)):\n",
    "    number = test_result_list[j][2]\n",
    "    t_list_3.append(number)"
   ]
  },
  {
   "cell_type": "code",
   "execution_count": 323,
   "id": "8ec75f02-3e8f-4aa8-8819-78491ce1cbf4",
   "metadata": {},
   "outputs": [],
   "source": [
    "t_list_2 = list()\n",
    "for j in range(len(test_result_list)):\n",
    "    number = test_result_list[j][1]\n",
    "    t_list_2.append(number)"
   ]
  },
  {
   "cell_type": "code",
   "execution_count": null,
   "id": "1ca6f051-8692-4015-80df-97f2549b22ec",
   "metadata": {},
   "outputs": [],
   "source": []
  },
  {
   "cell_type": "code",
   "execution_count": 32,
   "id": "6a3cd467-6bb1-47cf-9793-7658eb55fa3d",
   "metadata": {},
   "outputs": [
    {
     "data": {
      "text/plain": [
       "18172"
      ]
     },
     "execution_count": 32,
     "metadata": {},
     "output_type": "execute_result"
    }
   ],
   "source": [
    "len(t_list_6)"
   ]
  },
  {
   "cell_type": "code",
   "execution_count": null,
   "id": "a6d621e8-ba66-4ee0-a0f1-fba9b68880a6",
   "metadata": {},
   "outputs": [],
   "source": []
  },
  {
   "cell_type": "code",
   "execution_count": 24,
   "id": "aaa0e759-2a1b-409d-ac44-847f9468b34f",
   "metadata": {},
   "outputs": [
    {
     "data": {
      "text/plain": [
       "65632.203125"
      ]
     },
     "execution_count": 24,
     "metadata": {},
     "output_type": "execute_result"
    }
   ],
   "source": [
    "t_list[18176]"
   ]
  },
  {
   "cell_type": "code",
   "execution_count": 31,
   "id": "5d8a5689-c38c-4456-b8bf-f974b0ebe5fb",
   "metadata": {},
   "outputs": [
    {
     "data": {
      "text/plain": [
       "[<matplotlib.lines.Line2D at 0x294ee50b5b0>]"
      ]
     },
     "execution_count": 31,
     "metadata": {},
     "output_type": "execute_result"
    },
    {
     "data": {
      "image/png": "[encoded data removed]",
      "text/plain": [
       "<Figure size 640x480 with 1 Axes>"
      ]
     },
     "metadata": {},
     "output_type": "display_data"
    }
   ],
   "source": [
    "plt.plot(t_list_6)\n",
    "plt.plot(update_dataset_model['close'].tolist())"
   ]
  },
  {
   "cell_type": "code",
   "execution_count": 24,
   "id": "5871ba35-743a-4094-b519-feb9a0e4faeb",
   "metadata": {},
   "outputs": [
    {
     "data": {
      "text/plain": [
       "18177"
      ]
     },
     "execution_count": 24,
     "metadata": {},
     "output_type": "execute_result"
    }
   ],
   "source": [
    "len(update_dataset_model['close'].tolist())"
   ]
  },
  {
   "cell_type": "code",
   "execution_count": 25,
   "id": "9fc80fa2-6117-4f98-8025-59cbc91afe18",
   "metadata": {},
   "outputs": [
    {
     "data": {
      "text/plain": [
       "18172"
      ]
     },
     "execution_count": 25,
     "metadata": {},
     "output_type": "execute_result"
    }
   ],
   "source": [
    "len(t_list)"
   ]
  },
  {
   "cell_type": "code",
   "execution_count": 34,
   "id": "c5513d41-a857-452d-b15c-9a8e1cb40bd3",
   "metadata": {},
   "outputs": [],
   "source": [
    "test_list = [0, 1, 2, 3, 4, 5, 6, 7, 8, 9, 10, 11, 12, 13, 14, 15]"
   ]
  },
  {
   "cell_type": "code",
   "execution_count": 44,
   "id": "d1a05472-7daf-49bd-ad99-3ac26c3c54af",
   "metadata": {},
   "outputs": [],
   "source": [
    "end_ix = 1 + 12"
   ]
  },
  {
   "cell_type": "code",
   "execution_count": 47,
   "id": "85be9640-eca2-42cc-8551-13689d5082c9",
   "metadata": {},
   "outputs": [],
   "source": [
    "out_end = end_ix + 3"
   ]
  },
  {
   "cell_type": "code",
   "execution_count": 46,
   "id": "af9e221e-f024-47af-8fd9-090253ffb858",
   "metadata": {},
   "outputs": [
    {
     "data": {
      "text/plain": [
       "[1, 2, 3, 4, 5, 6, 7, 8, 9, 10, 11, 12]"
      ]
     },
     "execution_count": 46,
     "metadata": {},
     "output_type": "execute_result"
    }
   ],
   "source": [
    "test_list[1:end_ix]"
   ]
  },
  {
   "cell_type": "code",
   "execution_count": 48,
   "id": "ac2372b8-d626-4f83-b5ae-4268eaa22db3",
   "metadata": {},
   "outputs": [
    {
     "data": {
      "text/plain": [
       "[13, 14, 15]"
      ]
     },
     "execution_count": 48,
     "metadata": {},
     "output_type": "execute_result"
    }
   ],
   "source": [
    "test_list[end_ix:out_end]"
   ]
  },
  {
   "cell_type": "code",
   "execution_count": 64,
   "id": "b0893ebf-737d-4c3e-8602-8c879022d3cb",
   "metadata": {},
   "outputs": [],
   "source": [
    "update_dataset_model['ELSTM'] = t_list"
   ]
  },
  {
   "cell_type": "code",
   "execution_count": 65,
   "id": "759cedb1-55dd-448b-806a-ee058a90ab5d",
   "metadata": {},
   "outputs": [
    {
     "data": {
      "text/html": [
       "<div>\n",
       "<style scoped>\n",
       "    .dataframe tbody tr th:only-of-type {\n",
       "        vertical-align: middle;\n",
       "    }\n",
       "\n",
       "    .dataframe tbody tr th {\n",
       "        vertical-align: top;\n",
       "    }\n",
       "\n",
       "    .dataframe thead th {\n",
       "        text-align: right;\n",
       "    }\n",
       "</style>\n",
       "<table border=\"1\" class=\"dataframe\">\n",
       "  <thead>\n",
       "    <tr style=\"text-align: right;\">\n",
       "      <th></th>\n",
       "      <th>date</th>\n",
       "      <th>symbol</th>\n",
       "      <th>open</th>\n",
       "      <th>high</th>\n",
       "      <th>low</th>\n",
       "      <th>close</th>\n",
       "      <th>volume</th>\n",
       "      <th>ELSTM</th>\n",
       "    </tr>\n",
       "  </thead>\n",
       "  <tbody>\n",
       "    <tr>\n",
       "      <th>42490</th>\n",
       "      <td>2022-06-27 21:00:00</td>\n",
       "      <td>BTC</td>\n",
       "      <td>20913.57</td>\n",
       "      <td>20916.90</td>\n",
       "      <td>20783.15</td>\n",
       "      <td>20803.24</td>\n",
       "      <td>1093.61442</td>\n",
       "      <td>20968.130859</td>\n",
       "    </tr>\n",
       "    <tr>\n",
       "      <th>42491</th>\n",
       "      <td>2022-06-27 22:00:00</td>\n",
       "      <td>BTC</td>\n",
       "      <td>20803.25</td>\n",
       "      <td>20950.00</td>\n",
       "      <td>20762.80</td>\n",
       "      <td>20814.42</td>\n",
       "      <td>2552.76729</td>\n",
       "      <td>20896.166016</td>\n",
       "    </tr>\n",
       "    <tr>\n",
       "      <th>42492</th>\n",
       "      <td>2022-06-27 23:00:00</td>\n",
       "      <td>BTC</td>\n",
       "      <td>20814.42</td>\n",
       "      <td>20887.99</td>\n",
       "      <td>20680.00</td>\n",
       "      <td>20742.56</td>\n",
       "      <td>1915.17870</td>\n",
       "      <td>20891.267578</td>\n",
       "    </tr>\n",
       "    <tr>\n",
       "      <th>42493</th>\n",
       "      <td>2022-06-28 00:00:00</td>\n",
       "      <td>BTC</td>\n",
       "      <td>20742.57</td>\n",
       "      <td>20873.82</td>\n",
       "      <td>20684.00</td>\n",
       "      <td>20770.50</td>\n",
       "      <td>2620.37096</td>\n",
       "      <td>20839.988281</td>\n",
       "    </tr>\n",
       "    <tr>\n",
       "      <th>42494</th>\n",
       "      <td>2022-06-28 01:00:00</td>\n",
       "      <td>BTC</td>\n",
       "      <td>20770.50</td>\n",
       "      <td>20814.70</td>\n",
       "      <td>20553.04</td>\n",
       "      <td>20619.45</td>\n",
       "      <td>2874.79364</td>\n",
       "      <td>20833.630859</td>\n",
       "    </tr>\n",
       "    <tr>\n",
       "      <th>...</th>\n",
       "      <td>...</td>\n",
       "      <td>...</td>\n",
       "      <td>...</td>\n",
       "      <td>...</td>\n",
       "      <td>...</td>\n",
       "      <td>...</td>\n",
       "      <td>...</td>\n",
       "      <td>...</td>\n",
       "    </tr>\n",
       "    <tr>\n",
       "      <th>60662</th>\n",
       "      <td>2024-07-24 02:00:00</td>\n",
       "      <td>BTC</td>\n",
       "      <td>65666.01</td>\n",
       "      <td>65928.01</td>\n",
       "      <td>65476.84</td>\n",
       "      <td>65878.16</td>\n",
       "      <td>672.37334</td>\n",
       "      <td>65714.914062</td>\n",
       "    </tr>\n",
       "    <tr>\n",
       "      <th>60663</th>\n",
       "      <td>2024-07-24 03:00:00</td>\n",
       "      <td>BTC</td>\n",
       "      <td>65878.16</td>\n",
       "      <td>66111.50</td>\n",
       "      <td>65784.53</td>\n",
       "      <td>66052.71</td>\n",
       "      <td>601.26033</td>\n",
       "      <td>65575.546875</td>\n",
       "    </tr>\n",
       "    <tr>\n",
       "      <th>60664</th>\n",
       "      <td>2024-07-24 04:00:00</td>\n",
       "      <td>BTC</td>\n",
       "      <td>66052.71</td>\n",
       "      <td>66072.01</td>\n",
       "      <td>65791.42</td>\n",
       "      <td>65860.00</td>\n",
       "      <td>571.42118</td>\n",
       "      <td>65911.062500</td>\n",
       "    </tr>\n",
       "    <tr>\n",
       "      <th>60665</th>\n",
       "      <td>2024-07-24 05:00:00</td>\n",
       "      <td>BTC</td>\n",
       "      <td>65860.01</td>\n",
       "      <td>65914.49</td>\n",
       "      <td>65610.00</td>\n",
       "      <td>65814.01</td>\n",
       "      <td>673.83671</td>\n",
       "      <td>65712.007812</td>\n",
       "    </tr>\n",
       "    <tr>\n",
       "      <th>60666</th>\n",
       "      <td>2024-07-24 06:00:00</td>\n",
       "      <td>BTC</td>\n",
       "      <td>65814.01</td>\n",
       "      <td>65999.00</td>\n",
       "      <td>65762.01</td>\n",
       "      <td>65935.09</td>\n",
       "      <td>330.74243</td>\n",
       "      <td>65632.203125</td>\n",
       "    </tr>\n",
       "  </tbody>\n",
       "</table>\n",
       "<p>18177 rows × 8 columns</p>\n",
       "</div>"
      ],
      "text/plain": [
       "                      date symbol      open      high       low     close  \\\n",
       "42490  2022-06-27 21:00:00    BTC  20913.57  20916.90  20783.15  20803.24   \n",
       "42491  2022-06-27 22:00:00    BTC  20803.25  20950.00  20762.80  20814.42   \n",
       "42492  2022-06-27 23:00:00    BTC  20814.42  20887.99  20680.00  20742.56   \n",
       "42493  2022-06-28 00:00:00    BTC  20742.57  20873.82  20684.00  20770.50   \n",
       "42494  2022-06-28 01:00:00    BTC  20770.50  20814.70  20553.04  20619.45   \n",
       "...                    ...    ...       ...       ...       ...       ...   \n",
       "60662  2024-07-24 02:00:00    BTC  65666.01  65928.01  65476.84  65878.16   \n",
       "60663  2024-07-24 03:00:00    BTC  65878.16  66111.50  65784.53  66052.71   \n",
       "60664  2024-07-24 04:00:00    BTC  66052.71  66072.01  65791.42  65860.00   \n",
       "60665  2024-07-24 05:00:00    BTC  65860.01  65914.49  65610.00  65814.01   \n",
       "60666  2024-07-24 06:00:00    BTC  65814.01  65999.00  65762.01  65935.09   \n",
       "\n",
       "           volume         ELSTM  \n",
       "42490  1093.61442  20968.130859  \n",
       "42491  2552.76729  20896.166016  \n",
       "42492  1915.17870  20891.267578  \n",
       "42493  2620.37096  20839.988281  \n",
       "42494  2874.79364  20833.630859  \n",
       "...           ...           ...  \n",
       "60662   672.37334  65714.914062  \n",
       "60663   601.26033  65575.546875  \n",
       "60664   571.42118  65911.062500  \n",
       "60665   673.83671  65712.007812  \n",
       "60666   330.74243  65632.203125  \n",
       "\n",
       "[18177 rows x 8 columns]"
      ]
     },
     "execution_count": 65,
     "metadata": {},
     "output_type": "execute_result"
    }
   ],
   "source": [
    "update_dataset_model "
   ]
  },
  {
   "cell_type": "code",
   "execution_count": 43,
   "id": "4719c763-55f7-4068-a5e9-642c89cb0689",
   "metadata": {},
   "outputs": [],
   "source": [
    "import pandas_ta as ta"
   ]
  },
  {
   "cell_type": "code",
   "execution_count": 53,
   "id": "7f998d90-8458-46db-b27e-97a1b3bd4812",
   "metadata": {},
   "outputs": [],
   "source": [
    "help(ta.ema)"
   ]
  },
  {
   "cell_type": "code",
   "execution_count": 58,
   "id": "449d062c-1460-4eef-845a-16c6141eb99e",
   "metadata": {},
   "outputs": [],
   "source": [
    "close_sma_10 = ta.sma(update_dataset_model['close'])"
   ]
  },
  {
   "cell_type": "code",
   "execution_count": 59,
   "id": "ff3fe324-ca6f-419b-9ec5-f5de650810ba",
   "metadata": {},
   "outputs": [],
   "source": [
    "update_dataset_model = update_dataset_model.join(close_sma_10)"
   ]
  },
  {
   "cell_type": "code",
   "execution_count": 61,
   "id": "5e7cb7ba-66d1-46be-940a-adb209e13a0e",
   "metadata": {},
   "outputs": [],
   "source": [
    "update_dataset_model = update_dataset_model.dropna()"
   ]
  },
  {
   "cell_type": "code",
   "execution_count": 91,
   "id": "2e702a0c-c549-45e5-903c-c116df3b78f2",
   "metadata": {
    "scrolled": true
   },
   "outputs": [
    {
     "data": {
      "text/html": [
       "<div>\n",
       "<style scoped>\n",
       "    .dataframe tbody tr th:only-of-type {\n",
       "        vertical-align: middle;\n",
       "    }\n",
       "\n",
       "    .dataframe tbody tr th {\n",
       "        vertical-align: top;\n",
       "    }\n",
       "\n",
       "    .dataframe thead th {\n",
       "        text-align: right;\n",
       "    }\n",
       "</style>\n",
       "<table border=\"1\" class=\"dataframe\">\n",
       "  <thead>\n",
       "    <tr style=\"text-align: right;\">\n",
       "      <th></th>\n",
       "      <th>date</th>\n",
       "      <th>symbol</th>\n",
       "      <th>open</th>\n",
       "      <th>high</th>\n",
       "      <th>low</th>\n",
       "      <th>close</th>\n",
       "      <th>volume</th>\n",
       "      <th>SMA_24</th>\n",
       "    </tr>\n",
       "  </thead>\n",
       "  <tbody>\n",
       "    <tr>\n",
       "      <th>42513</th>\n",
       "      <td>2022-06-28 20:00:00</td>\n",
       "      <td>BTC</td>\n",
       "      <td>20255.01</td>\n",
       "      <td>20321.92</td>\n",
       "      <td>20202.01</td>\n",
       "      <td>20277.57</td>\n",
       "      <td>1982.02776</td>\n",
       "      <td>20761.345000</td>\n",
       "    </tr>\n",
       "    <tr>\n",
       "      <th>42514</th>\n",
       "      <td>2022-06-28 21:00:00</td>\n",
       "      <td>BTC</td>\n",
       "      <td>20277.58</td>\n",
       "      <td>20397.47</td>\n",
       "      <td>20274.31</td>\n",
       "      <td>20393.44</td>\n",
       "      <td>1198.43183</td>\n",
       "      <td>20744.270000</td>\n",
       "    </tr>\n",
       "    <tr>\n",
       "      <th>42515</th>\n",
       "      <td>2022-06-28 22:00:00</td>\n",
       "      <td>BTC</td>\n",
       "      <td>20393.43</td>\n",
       "      <td>20463.20</td>\n",
       "      <td>20268.05</td>\n",
       "      <td>20308.02</td>\n",
       "      <td>2040.49278</td>\n",
       "      <td>20723.170000</td>\n",
       "    </tr>\n",
       "    <tr>\n",
       "      <th>42516</th>\n",
       "      <td>2022-06-28 23:00:00</td>\n",
       "      <td>BTC</td>\n",
       "      <td>20308.01</td>\n",
       "      <td>20367.41</td>\n",
       "      <td>20210.00</td>\n",
       "      <td>20281.29</td>\n",
       "      <td>2507.04424</td>\n",
       "      <td>20703.950417</td>\n",
       "    </tr>\n",
       "    <tr>\n",
       "      <th>42517</th>\n",
       "      <td>2022-06-29 00:00:00</td>\n",
       "      <td>BTC</td>\n",
       "      <td>20281.28</td>\n",
       "      <td>20388.79</td>\n",
       "      <td>20152.00</td>\n",
       "      <td>20289.83</td>\n",
       "      <td>3027.28428</td>\n",
       "      <td>20683.922500</td>\n",
       "    </tr>\n",
       "    <tr>\n",
       "      <th>...</th>\n",
       "      <td>...</td>\n",
       "      <td>...</td>\n",
       "      <td>...</td>\n",
       "      <td>...</td>\n",
       "      <td>...</td>\n",
       "      <td>...</td>\n",
       "      <td>...</td>\n",
       "      <td>...</td>\n",
       "    </tr>\n",
       "    <tr>\n",
       "      <th>60662</th>\n",
       "      <td>2024-07-24 02:00:00</td>\n",
       "      <td>BTC</td>\n",
       "      <td>65666.01</td>\n",
       "      <td>65928.01</td>\n",
       "      <td>65476.84</td>\n",
       "      <td>65878.16</td>\n",
       "      <td>672.37334</td>\n",
       "      <td>66324.967500</td>\n",
       "    </tr>\n",
       "    <tr>\n",
       "      <th>60663</th>\n",
       "      <td>2024-07-24 03:00:00</td>\n",
       "      <td>BTC</td>\n",
       "      <td>65878.16</td>\n",
       "      <td>66111.50</td>\n",
       "      <td>65784.53</td>\n",
       "      <td>66052.71</td>\n",
       "      <td>601.26033</td>\n",
       "      <td>66265.747500</td>\n",
       "    </tr>\n",
       "    <tr>\n",
       "      <th>60664</th>\n",
       "      <td>2024-07-24 04:00:00</td>\n",
       "      <td>BTC</td>\n",
       "      <td>66052.71</td>\n",
       "      <td>66072.01</td>\n",
       "      <td>65791.42</td>\n",
       "      <td>65860.00</td>\n",
       "      <td>571.42118</td>\n",
       "      <td>66220.914167</td>\n",
       "    </tr>\n",
       "    <tr>\n",
       "      <th>60665</th>\n",
       "      <td>2024-07-24 05:00:00</td>\n",
       "      <td>BTC</td>\n",
       "      <td>65860.01</td>\n",
       "      <td>65914.49</td>\n",
       "      <td>65610.00</td>\n",
       "      <td>65814.01</td>\n",
       "      <td>673.83671</td>\n",
       "      <td>66195.331250</td>\n",
       "    </tr>\n",
       "    <tr>\n",
       "      <th>60666</th>\n",
       "      <td>2024-07-24 06:00:00</td>\n",
       "      <td>BTC</td>\n",
       "      <td>65814.01</td>\n",
       "      <td>65999.00</td>\n",
       "      <td>65762.01</td>\n",
       "      <td>65935.09</td>\n",
       "      <td>330.74243</td>\n",
       "      <td>66170.987500</td>\n",
       "    </tr>\n",
       "  </tbody>\n",
       "</table>\n",
       "<p>18154 rows × 8 columns</p>\n",
       "</div>"
      ],
      "text/plain": [
       "                      date symbol      open      high       low     close  \\\n",
       "42513  2022-06-28 20:00:00    BTC  20255.01  20321.92  20202.01  20277.57   \n",
       "42514  2022-06-28 21:00:00    BTC  20277.58  20397.47  20274.31  20393.44   \n",
       "42515  2022-06-28 22:00:00    BTC  20393.43  20463.20  20268.05  20308.02   \n",
       "42516  2022-06-28 23:00:00    BTC  20308.01  20367.41  20210.00  20281.29   \n",
       "42517  2022-06-29 00:00:00    BTC  20281.28  20388.79  20152.00  20289.83   \n",
       "...                    ...    ...       ...       ...       ...       ...   \n",
       "60662  2024-07-24 02:00:00    BTC  65666.01  65928.01  65476.84  65878.16   \n",
       "60663  2024-07-24 03:00:00    BTC  65878.16  66111.50  65784.53  66052.71   \n",
       "60664  2024-07-24 04:00:00    BTC  66052.71  66072.01  65791.42  65860.00   \n",
       "60665  2024-07-24 05:00:00    BTC  65860.01  65914.49  65610.00  65814.01   \n",
       "60666  2024-07-24 06:00:00    BTC  65814.01  65999.00  65762.01  65935.09   \n",
       "\n",
       "           volume        SMA_24  \n",
       "42513  1982.02776  20761.345000  \n",
       "42514  1198.43183  20744.270000  \n",
       "42515  2040.49278  20723.170000  \n",
       "42516  2507.04424  20703.950417  \n",
       "42517  3027.28428  20683.922500  \n",
       "...           ...           ...  \n",
       "60662   672.37334  66324.967500  \n",
       "60663   601.26033  66265.747500  \n",
       "60664   571.42118  66220.914167  \n",
       "60665   673.83671  66195.331250  \n",
       "60666   330.74243  66170.987500  \n",
       "\n",
       "[18154 rows x 8 columns]"
      ]
     },
     "execution_count": 91,
     "metadata": {},
     "output_type": "execute_result"
    }
   ],
   "source": [
    "update_dataset_model "
   ]
  },
  {
   "cell_type": "markdown",
   "id": "76efc83d-10f8-4448-8c49-b1a868a62745",
   "metadata": {},
   "source": [
    "# Test Run starts here"
   ]
  },
  {
   "cell_type": "code",
   "execution_count": 878,
   "id": "42da0caf-737a-453c-8059-b6b2244a3373",
   "metadata": {},
   "outputs": [],
   "source": [
    "update_dataset_model = test_bit_data[n_steps_in:]"
   ]
  },
  {
   "cell_type": "code",
   "execution_count": 879,
   "id": "463080e5-0510-4c35-b2b1-98f80dbf5baa",
   "metadata": {},
   "outputs": [
    {
     "data": {
      "text/plain": [
       "18177"
      ]
     },
     "execution_count": 879,
     "metadata": {},
     "output_type": "execute_result"
    }
   ],
   "source": [
    "len(update_dataset_model)"
   ]
  },
  {
   "cell_type": "code",
   "execution_count": 880,
   "id": "fe9b7ba8-765d-4652-aa45-a4073ea96820",
   "metadata": {},
   "outputs": [],
   "source": [
    "update_dataset_model = update_dataset_model[:18172]"
   ]
  },
  {
   "cell_type": "code",
   "execution_count": 881,
   "id": "57674126-b0c1-4273-b818-335781f07471",
   "metadata": {},
   "outputs": [
    {
     "data": {
      "text/plain": [
       "18172"
      ]
     },
     "execution_count": 881,
     "metadata": {},
     "output_type": "execute_result"
    }
   ],
   "source": [
    "len(update_dataset_model)"
   ]
  },
  {
   "cell_type": "code",
   "execution_count": 882,
   "id": "4c989832-a13a-45ba-9b98-5c63ad28e158",
   "metadata": {},
   "outputs": [],
   "source": [
    "update_dataset_model['CLSTM'] = t_list_6"
   ]
  },
  {
   "cell_type": "code",
   "execution_count": 883,
   "id": "4a5b9a22-3dc3-4e16-b86b-a67b45339e3b",
   "metadata": {},
   "outputs": [],
   "source": [
    "update_dataset_model = update_dataset_model.join(ta.rma(update_dataset_model['close'], length=36))"
   ]
  },
  {
   "cell_type": "code",
   "execution_count": 884,
   "id": "1791d49c-ee1e-4552-914f-32dee049ae51",
   "metadata": {},
   "outputs": [],
   "source": [
    "update_dataset_model = update_dataset_model.dropna()"
   ]
  },
  {
   "cell_type": "code",
   "execution_count": 885,
   "id": "643476bf-0d36-4e18-917a-14699e49dbd7",
   "metadata": {},
   "outputs": [],
   "source": [
    "update_dataset_model['diff'] = update_dataset_model['CLSTM'] - update_dataset_model['RMA_36']"
   ]
  },
  {
   "cell_type": "code",
   "execution_count": 886,
   "id": "517f001d-7ad5-48fa-9695-782af99e81ee",
   "metadata": {},
   "outputs": [
    {
     "data": {
      "text/html": [
       "<div>\n",
       "<style scoped>\n",
       "    .dataframe tbody tr th:only-of-type {\n",
       "        vertical-align: middle;\n",
       "    }\n",
       "\n",
       "    .dataframe tbody tr th {\n",
       "        vertical-align: top;\n",
       "    }\n",
       "\n",
       "    .dataframe thead th {\n",
       "        text-align: right;\n",
       "    }\n",
       "</style>\n",
       "<table border=\"1\" class=\"dataframe\">\n",
       "  <thead>\n",
       "    <tr style=\"text-align: right;\">\n",
       "      <th></th>\n",
       "      <th>date</th>\n",
       "      <th>symbol</th>\n",
       "      <th>open</th>\n",
       "      <th>high</th>\n",
       "      <th>low</th>\n",
       "      <th>close</th>\n",
       "      <th>volume</th>\n",
       "      <th>CLSTM</th>\n",
       "      <th>EMA_36</th>\n",
       "      <th>diff</th>\n",
       "    </tr>\n",
       "  </thead>\n",
       "  <tbody>\n",
       "    <tr>\n",
       "      <th>42525</th>\n",
       "      <td>2022-06-29 08:00:00</td>\n",
       "      <td>BTC</td>\n",
       "      <td>20093.74</td>\n",
       "      <td>20149.00</td>\n",
       "      <td>19961.81</td>\n",
       "      <td>19990.38</td>\n",
       "      <td>2410.37206</td>\n",
       "      <td>20134.835938</td>\n",
       "      <td>20584.696389</td>\n",
       "      <td>-449.860451</td>\n",
       "    </tr>\n",
       "    <tr>\n",
       "      <th>42526</th>\n",
       "      <td>2022-06-29 09:00:00</td>\n",
       "      <td>BTC</td>\n",
       "      <td>19990.38</td>\n",
       "      <td>20233.98</td>\n",
       "      <td>19971.01</td>\n",
       "      <td>20063.27</td>\n",
       "      <td>3598.30508</td>\n",
       "      <td>20152.990234</td>\n",
       "      <td>20556.511179</td>\n",
       "      <td>-403.520944</td>\n",
       "    </tr>\n",
       "    <tr>\n",
       "      <th>42527</th>\n",
       "      <td>2022-06-29 10:00:00</td>\n",
       "      <td>BTC</td>\n",
       "      <td>20063.26</td>\n",
       "      <td>20147.12</td>\n",
       "      <td>20025.00</td>\n",
       "      <td>20097.00</td>\n",
       "      <td>3038.00098</td>\n",
       "      <td>20170.015625</td>\n",
       "      <td>20531.672737</td>\n",
       "      <td>-361.657112</td>\n",
       "    </tr>\n",
       "    <tr>\n",
       "      <th>42528</th>\n",
       "      <td>2022-06-29 11:00:00</td>\n",
       "      <td>BTC</td>\n",
       "      <td>20097.00</td>\n",
       "      <td>20122.43</td>\n",
       "      <td>19854.92</td>\n",
       "      <td>20104.80</td>\n",
       "      <td>4656.69536</td>\n",
       "      <td>20159.449219</td>\n",
       "      <td>20508.598535</td>\n",
       "      <td>-349.149316</td>\n",
       "    </tr>\n",
       "    <tr>\n",
       "      <th>42529</th>\n",
       "      <td>2022-06-29 12:00:00</td>\n",
       "      <td>BTC</td>\n",
       "      <td>20104.81</td>\n",
       "      <td>20189.13</td>\n",
       "      <td>19977.18</td>\n",
       "      <td>20014.12</td>\n",
       "      <td>4072.63617</td>\n",
       "      <td>20112.402344</td>\n",
       "      <td>20481.869965</td>\n",
       "      <td>-369.467621</td>\n",
       "    </tr>\n",
       "    <tr>\n",
       "      <th>...</th>\n",
       "      <td>...</td>\n",
       "      <td>...</td>\n",
       "      <td>...</td>\n",
       "      <td>...</td>\n",
       "      <td>...</td>\n",
       "      <td>...</td>\n",
       "      <td>...</td>\n",
       "      <td>...</td>\n",
       "      <td>...</td>\n",
       "      <td>...</td>\n",
       "    </tr>\n",
       "    <tr>\n",
       "      <th>60657</th>\n",
       "      <td>2024-07-23 21:00:00</td>\n",
       "      <td>BTC</td>\n",
       "      <td>65836.00</td>\n",
       "      <td>66049.99</td>\n",
       "      <td>65782.00</td>\n",
       "      <td>65872.00</td>\n",
       "      <td>579.43470</td>\n",
       "      <td>65615.203125</td>\n",
       "      <td>66716.905185</td>\n",
       "      <td>-1101.702060</td>\n",
       "    </tr>\n",
       "    <tr>\n",
       "      <th>60658</th>\n",
       "      <td>2024-07-23 22:00:00</td>\n",
       "      <td>BTC</td>\n",
       "      <td>65872.00</td>\n",
       "      <td>66043.47</td>\n",
       "      <td>65790.00</td>\n",
       "      <td>65917.99</td>\n",
       "      <td>678.72040</td>\n",
       "      <td>65838.664062</td>\n",
       "      <td>66673.720580</td>\n",
       "      <td>-835.056518</td>\n",
       "    </tr>\n",
       "    <tr>\n",
       "      <th>60659</th>\n",
       "      <td>2024-07-23 23:00:00</td>\n",
       "      <td>BTC</td>\n",
       "      <td>65917.99</td>\n",
       "      <td>66054.00</td>\n",
       "      <td>65793.01</td>\n",
       "      <td>65936.01</td>\n",
       "      <td>673.09371</td>\n",
       "      <td>65794.515625</td>\n",
       "      <td>66633.844333</td>\n",
       "      <td>-839.328708</td>\n",
       "    </tr>\n",
       "    <tr>\n",
       "      <th>60660</th>\n",
       "      <td>2024-07-24 00:00:00</td>\n",
       "      <td>BTC</td>\n",
       "      <td>65936.00</td>\n",
       "      <td>66146.01</td>\n",
       "      <td>65780.00</td>\n",
       "      <td>65784.70</td>\n",
       "      <td>522.47964</td>\n",
       "      <td>65828.046875</td>\n",
       "      <td>66587.944639</td>\n",
       "      <td>-759.897764</td>\n",
       "    </tr>\n",
       "    <tr>\n",
       "      <th>60661</th>\n",
       "      <td>2024-07-24 01:00:00</td>\n",
       "      <td>BTC</td>\n",
       "      <td>65784.70</td>\n",
       "      <td>66114.21</td>\n",
       "      <td>65619.98</td>\n",
       "      <td>65666.01</td>\n",
       "      <td>636.47823</td>\n",
       "      <td>65868.273438</td>\n",
       "      <td>66538.110334</td>\n",
       "      <td>-669.836897</td>\n",
       "    </tr>\n",
       "  </tbody>\n",
       "</table>\n",
       "<p>18137 rows × 10 columns</p>\n",
       "</div>"
      ],
      "text/plain": [
       "                      date symbol      open      high       low     close  \\\n",
       "42525  2022-06-29 08:00:00    BTC  20093.74  20149.00  19961.81  19990.38   \n",
       "42526  2022-06-29 09:00:00    BTC  19990.38  20233.98  19971.01  20063.27   \n",
       "42527  2022-06-29 10:00:00    BTC  20063.26  20147.12  20025.00  20097.00   \n",
       "42528  2022-06-29 11:00:00    BTC  20097.00  20122.43  19854.92  20104.80   \n",
       "42529  2022-06-29 12:00:00    BTC  20104.81  20189.13  19977.18  20014.12   \n",
       "...                    ...    ...       ...       ...       ...       ...   \n",
       "60657  2024-07-23 21:00:00    BTC  65836.00  66049.99  65782.00  65872.00   \n",
       "60658  2024-07-23 22:00:00    BTC  65872.00  66043.47  65790.00  65917.99   \n",
       "60659  2024-07-23 23:00:00    BTC  65917.99  66054.00  65793.01  65936.01   \n",
       "60660  2024-07-24 00:00:00    BTC  65936.00  66146.01  65780.00  65784.70   \n",
       "60661  2024-07-24 01:00:00    BTC  65784.70  66114.21  65619.98  65666.01   \n",
       "\n",
       "           volume         CLSTM        EMA_36         diff  \n",
       "42525  2410.37206  20134.835938  20584.696389  -449.860451  \n",
       "42526  3598.30508  20152.990234  20556.511179  -403.520944  \n",
       "42527  3038.00098  20170.015625  20531.672737  -361.657112  \n",
       "42528  4656.69536  20159.449219  20508.598535  -349.149316  \n",
       "42529  4072.63617  20112.402344  20481.869965  -369.467621  \n",
       "...           ...           ...           ...          ...  \n",
       "60657   579.43470  65615.203125  66716.905185 -1101.702060  \n",
       "60658   678.72040  65838.664062  66673.720580  -835.056518  \n",
       "60659   673.09371  65794.515625  66633.844333  -839.328708  \n",
       "60660   522.47964  65828.046875  66587.944639  -759.897764  \n",
       "60661   636.47823  65868.273438  66538.110334  -669.836897  \n",
       "\n",
       "[18137 rows x 10 columns]"
      ]
     },
     "execution_count": 886,
     "metadata": {},
     "output_type": "execute_result"
    }
   ],
   "source": [
    "update_dataset_model"
   ]
  },
  {
   "cell_type": "code",
   "execution_count": 887,
   "id": "c49242c7-7f31-4a0f-a0b0-153853519f06",
   "metadata": {},
   "outputs": [],
   "source": [
    "diff_lstm = update_dataset_model['diff'].tolist()"
   ]
  },
  {
   "cell_type": "code",
   "execution_count": 888,
   "id": "132d7e9c-72b0-417c-8b1b-34c73f0579b2",
   "metadata": {},
   "outputs": [],
   "source": [
    "signal = []\n",
    "for i in range(len(diff_lstm)):\n",
    "    if i == 0:\n",
    "        signal.append(0)\n",
    "    elif diff_lstm[i] > 0 and diff_lstm[i-1] < 0:\n",
    "        signal.append(1)\n",
    "    elif diff_lstm[i] < 0 and diff_lstm[i-1] > 0:\n",
    "        signal.append(-1)\n",
    "    else:\n",
    "        signal.append(0)"
   ]
  },
  {
   "cell_type": "code",
   "execution_count": 889,
   "id": "27092bfa-5540-41d8-ba27-871b22cb3e52",
   "metadata": {},
   "outputs": [],
   "source": [
    "update_dataset_model['signal'] = signal"
   ]
  },
  {
   "cell_type": "code",
   "execution_count": 890,
   "id": "c9637679-0007-4281-a524-41e174434db2",
   "metadata": {},
   "outputs": [],
   "source": [
    "decision_price = []\n",
    "for index, row in update_dataset_model.iterrows():\n",
    "    if row['signal'] == 1:\n",
    "        decision_price.append(row['close'])\n",
    "    elif row['signal'] == -1:\n",
    "        decision_price.append(-1*row['close'])"
   ]
  },
  {
   "cell_type": "code",
   "execution_count": 891,
   "id": "48c00aab-1d45-4bd1-b68a-154c979b2ead",
   "metadata": {},
   "outputs": [
    {
     "data": {
      "text/plain": [
       "1206"
      ]
     },
     "execution_count": 891,
     "metadata": {},
     "output_type": "execute_result"
    }
   ],
   "source": [
    "len(decision_price)"
   ]
  },
  {
   "cell_type": "code",
   "execution_count": 893,
   "id": "559a6cbe-4a34-4bca-a590-ef8aeaac209f",
   "metadata": {},
   "outputs": [],
   "source": [
    "decision_price_long = decision_price"
   ]
  },
  {
   "cell_type": "code",
   "execution_count": 894,
   "id": "51215e18-2512-4dd4-bfdd-a6f856a9974d",
   "metadata": {},
   "outputs": [
    {
     "data": {
      "text/plain": [
       "1206"
      ]
     },
     "execution_count": 894,
     "metadata": {},
     "output_type": "execute_result"
    }
   ],
   "source": [
    "len(decision_price_long)"
   ]
  },
  {
   "cell_type": "code",
   "execution_count": 895,
   "id": "e0e21341-758f-4e00-9a0d-bde80a1cbc27",
   "metadata": {},
   "outputs": [],
   "source": [
    "pct_return_list = []\n",
    "init_money = 10000\n",
    "for i in list(range(0, len(decision_price_long), 2)):\n",
    "    pct_ret = ((init_money / decision_price_long[i]) * (-1 * decision_price_long[i+1]) - init_money)  / init_money\n",
    "    pct_return_list.append(pct_ret)"
   ]
  },
  {
   "cell_type": "code",
   "execution_count": 896,
   "id": "35d66fa0-b3e3-4cc8-9f2c-405c982d32d5",
   "metadata": {},
   "outputs": [
    {
     "data": {
      "text/plain": [
       "[<matplotlib.lines.Line2D at 0x29538b40ac0>]"
      ]
     },
     "execution_count": 896,
     "metadata": {},
     "output_type": "execute_result"
    },
    {
     "data": {
      "image/png": "[encoded data removed]",
      "text/plain": [
       "<Figure size 640x480 with 1 Axes>"
      ]
     },
     "metadata": {},
     "output_type": "display_data"
    }
   ],
   "source": [
    "plt.plot(pct_return_list)"
   ]
  },
  {
   "cell_type": "code",
   "execution_count": 897,
   "id": "3f22cb9d-1b3d-438e-8529-f1311055ab87",
   "metadata": {},
   "outputs": [],
   "source": [
    "output_return = cumulative_sum(pct_return_list)"
   ]
  },
  {
   "cell_type": "code",
   "execution_count": 898,
   "id": "cae30bba-0b9c-4fe9-9ca2-54679e494018",
   "metadata": {},
   "outputs": [
    {
     "data": {
      "text/plain": [
       "[<matplotlib.lines.Line2D at 0x29538b8ac10>]"
      ]
     },
     "execution_count": 898,
     "metadata": {},
     "output_type": "execute_result"
    },
    {
     "data": {
      "image/png": "[encoded data removed]",
      "text/plain": [
       "<Figure size 640x480 with 1 Axes>"
      ]
     },
     "metadata": {},
     "output_type": "display_data"
    }
   ],
   "source": [
    "plt.plot(output_return)"
   ]
  },
  {
   "cell_type": "code",
   "execution_count": 59,
   "id": "2d88f0a7-d108-4e6b-8576-bca84620b658",
   "metadata": {},
   "outputs": [],
   "source": [
    "def cumulative_sum(input_list):\n",
    "    # Convert the list to a NumPy array\n",
    "    input_array = np.array(input_list)\n",
    "    # Compute the cumulative sum along the first axis of the array\n",
    "    cumulative_sum_array = np.cumsum(input_array)\n",
    "    # Convert the NumPy array back to a list and return it\n",
    "    return cumulative_sum_array.tolist()"
   ]
  },
  {
   "cell_type": "code",
   "execution_count": 63,
   "id": "47e6cdf0-b66f-40d5-bf35-dd6705c1cf24",
   "metadata": {},
   "outputs": [],
   "source": [
    "update_dataset_model['diff_close'] = update_dataset_model['close'] - update_dataset_model['SMA_24']"
   ]
  },
  {
   "cell_type": "code",
   "execution_count": 64,
   "id": "4d5a5ae7-b480-4cb6-aca6-caf97884b720",
   "metadata": {},
   "outputs": [],
   "source": [
    "diff_close = update_dataset_model['diff_close'].tolist()"
   ]
  },
  {
   "cell_type": "code",
   "execution_count": 65,
   "id": "c88aed5d-5fab-451a-b6b7-9038193c969a",
   "metadata": {},
   "outputs": [],
   "source": [
    "signal_close = []\n",
    "for i in range(len(diff_close)):\n",
    "    if i == 0:\n",
    "        signal_close.append(0)\n",
    "    elif diff_close[i] > 0 and diff_close[i-1] < 0:\n",
    "        signal_close.append(1)\n",
    "    elif diff_close[i] < 0 and diff_close[i-1] > 0:\n",
    "        signal_close.append(-1)\n",
    "    else:\n",
    "        signal_close.append(0)"
   ]
  },
  {
   "cell_type": "code",
   "execution_count": 66,
   "id": "f82a4125-6a03-4785-8af8-c13b4353c8cd",
   "metadata": {},
   "outputs": [],
   "source": [
    "update_dataset_model['signal_close'] = signal_close"
   ]
  },
  {
   "cell_type": "code",
   "execution_count": 67,
   "id": "16f642ad-bbe8-4367-9572-4c106991e34f",
   "metadata": {},
   "outputs": [],
   "source": [
    "decision_price_close = []\n",
    "for index, row in update_dataset_model.iterrows():\n",
    "    if row['signal_close'] == 1:\n",
    "        decision_price_close.append(row['close'])\n",
    "    elif row['signal_close'] == -1:\n",
    "        decision_price_close.append(-1*row['close'])"
   ]
  },
  {
   "cell_type": "code",
   "execution_count": 68,
   "id": "ef80d4b9-35c3-44a0-8f93-9f8f45e4a678",
   "metadata": {},
   "outputs": [
    {
     "data": {
      "text/plain": [
       "2062"
      ]
     },
     "execution_count": 68,
     "metadata": {},
     "output_type": "execute_result"
    }
   ],
   "source": [
    "len(decision_price_close)"
   ]
  },
  {
   "cell_type": "code",
   "execution_count": 70,
   "id": "5c24207b-ad0a-415e-9f80-cf2d0f9d8983",
   "metadata": {},
   "outputs": [],
   "source": [
    "pct_return_list_close = []\n",
    "init_money = 10000\n",
    "for i in list(range(0, len(decision_price_close), 2)):\n",
    "    pct_ret = ((init_money / decision_price_close[i]) * (-1 * decision_price_close[i+1]) - init_money)  / init_money\n",
    "    pct_return_list_close.append(pct_ret)"
   ]
  },
  {
   "cell_type": "code",
   "execution_count": 75,
   "id": "197eaf20-c75f-4a9f-9996-2ead5f69b58c",
   "metadata": {},
   "outputs": [],
   "source": [
    "decisoin_price_short_close = decision_price_close[1:2061]"
   ]
  },
  {
   "cell_type": "code",
   "execution_count": 77,
   "id": "b4fb7173-6351-4b68-83bf-c9041e5e76e3",
   "metadata": {},
   "outputs": [
    {
     "data": {
      "text/plain": [
       "2060"
      ]
     },
     "execution_count": 77,
     "metadata": {},
     "output_type": "execute_result"
    }
   ],
   "source": [
    "len(decisoin_price_short_close)"
   ]
  },
  {
   "cell_type": "code",
   "execution_count": 79,
   "id": "fcf1ca7e-630d-4143-af04-0ca6d3f1497a",
   "metadata": {},
   "outputs": [],
   "source": [
    "pct_return_short_list_close = []\n",
    "for i in list(range(0, len(decisoin_price_short_close), 2)):\n",
    "    pct_ret = ((-1*decisoin_price_short_close[i]) - decisoin_price_short_close[i+1]) / decisoin_price_short_close[i]\n",
    "    pct_return_short_list_close.append(pct_ret)"
   ]
  },
  {
   "cell_type": "code",
   "execution_count": 80,
   "id": "5027a671-3691-4295-8187-35163b79cd53",
   "metadata": {},
   "outputs": [
    {
     "data": {
      "text/plain": [
       "[<matplotlib.lines.Line2D at 0x29005639a00>]"
      ]
     },
     "execution_count": 80,
     "metadata": {},
     "output_type": "execute_result"
    },
    {
     "data": {
      "image/png": "[encoded data removed]",
      "text/plain": [
       "<Figure size 640x480 with 1 Axes>"
      ]
     },
     "metadata": {},
     "output_type": "display_data"
    }
   ],
   "source": [
    "plt.plot(pct_return_short_list_close)"
   ]
  },
  {
   "cell_type": "code",
   "execution_count": 71,
   "id": "c7893d04-2f58-4558-96dc-97622fb83b0b",
   "metadata": {},
   "outputs": [],
   "source": [
    "output_return_close = cumulative_sum(pct_return_list_close)"
   ]
  },
  {
   "cell_type": "code",
   "execution_count": 72,
   "id": "438b10ab-4eea-42a4-894c-d8f27e9e99aa",
   "metadata": {},
   "outputs": [
    {
     "data": {
      "text/plain": [
       "[<matplotlib.lines.Line2D at 0x290025d4100>]"
      ]
     },
     "execution_count": 72,
     "metadata": {},
     "output_type": "execute_result"
    },
    {
     "data": {
      "image/png": "[encoded data removed]",
      "text/plain": [
       "<Figure size 640x480 with 1 Axes>"
      ]
     },
     "metadata": {},
     "output_type": "display_data"
    }
   ],
   "source": [
    "plt.plot(output_return_close)"
   ]
  },
  {
   "cell_type": "code",
   "execution_count": 74,
   "id": "41f57738-18be-46de-a69c-e6b5996dbfc9",
   "metadata": {},
   "outputs": [
    {
     "data": {
      "text/plain": [
       "[<matplotlib.lines.Line2D at 0x29005621fd0>]"
      ]
     },
     "execution_count": 74,
     "metadata": {},
     "output_type": "execute_result"
    },
    {
     "data": {
      "image/png": "[encoded data removed]",
      "text/plain": [
       "<Figure size 640x480 with 1 Axes>"
      ]
     },
     "metadata": {},
     "output_type": "display_data"
    }
   ],
   "source": [
    "plt.plot(output_return, 'orange') #24 #6"
   ]
  },
  {
   "cell_type": "code",
   "execution_count": 264,
   "id": "3efd539a-7432-425d-ba45-78a86eaf061d",
   "metadata": {},
   "outputs": [
    {
     "data": {
      "text/plain": [
       "[<matplotlib.lines.Line2D at 0x293a4871ee0>]"
      ]
     },
     "execution_count": 264,
     "metadata": {},
     "output_type": "execute_result"
    },
    {
     "data": {
      "image/png": "[encoded data removed]",
      "text/plain": [
       "<Figure size 640x480 with 1 Axes>"
      ]
     },
     "metadata": {},
     "output_type": "display_data"
    }
   ],
   "source": [
    "plt.plot(output_return, 'green') #12, 5"
   ]
  },
  {
   "cell_type": "code",
   "execution_count": 89,
   "id": "acd2fb39-32e9-4af8-9fb5-105b2fcaa526",
   "metadata": {},
   "outputs": [],
   "source": [
    "update_dataset_model['daily_return'] = (update_dataset_model['open'] - update_dataset_model['close']) / update_dataset_model['open'] "
   ]
  },
  {
   "cell_type": "code",
   "execution_count": 94,
   "id": "1de40598-97b2-478d-aade-196251d1224a",
   "metadata": {},
   "outputs": [
    {
     "data": {
      "text/plain": [
       "[<matplotlib.lines.Line2D at 0x29006808f40>]"
      ]
     },
     "execution_count": 94,
     "metadata": {},
     "output_type": "execute_result"
    },
    {
     "data": {
      "image/png": "[encoded data removed]",
      "text/plain": [
       "<Figure size 640x480 with 1 Axes>"
      ]
     },
     "metadata": {},
     "output_type": "display_data"
    }
   ],
   "source": [
    "plt.plot(update_dataset_model['daily_return'].cumsum())"
   ]
  },
  {
   "cell_type": "code",
   "execution_count": null,
   "id": "158ba26d-2e94-4c91-af96-0f1295b29a66",
   "metadata": {},
   "outputs": [],
   "source": []
  },
  {
   "cell_type": "markdown",
   "id": "3870da73-e125-4cdf-b0cf-06b04cc1fb3f",
   "metadata": {},
   "source": []
  },
  {
   "cell_type": "code",
   "execution_count": 539,
   "id": "fac14c49-f08e-4f1c-ae72-a18fe17d9c5f",
   "metadata": {},
   "outputs": [],
   "source": [
    "update_dataset_model = test_bit_data[n_steps_in:]"
   ]
  },
  {
   "cell_type": "code",
   "execution_count": 540,
   "id": "dda27b6a-f2c8-4203-b6e2-a91748e332b1",
   "metadata": {},
   "outputs": [],
   "source": [
    "update_dataset_model = update_dataset_model[:18172]"
   ]
  },
  {
   "cell_type": "code",
   "execution_count": 541,
   "id": "c4eaec77-81b8-4336-b8ec-fa0be9783db0",
   "metadata": {},
   "outputs": [],
   "source": [
    "update_dataset_model['CLSTM'] = t_list_6"
   ]
  },
  {
   "cell_type": "code",
   "execution_count": 542,
   "id": "dd5d750a-6e29-46fd-ba13-f6575b586b8d",
   "metadata": {},
   "outputs": [
    {
     "data": {
      "text/html": [
       "<div>\n",
       "<style scoped>\n",
       "    .dataframe tbody tr th:only-of-type {\n",
       "        vertical-align: middle;\n",
       "    }\n",
       "\n",
       "    .dataframe tbody tr th {\n",
       "        vertical-align: top;\n",
       "    }\n",
       "\n",
       "    .dataframe thead th {\n",
       "        text-align: right;\n",
       "    }\n",
       "</style>\n",
       "<table border=\"1\" class=\"dataframe\">\n",
       "  <thead>\n",
       "    <tr style=\"text-align: right;\">\n",
       "      <th></th>\n",
       "      <th>date</th>\n",
       "      <th>symbol</th>\n",
       "      <th>open</th>\n",
       "      <th>high</th>\n",
       "      <th>low</th>\n",
       "      <th>close</th>\n",
       "      <th>volume</th>\n",
       "      <th>CLSTM</th>\n",
       "    </tr>\n",
       "  </thead>\n",
       "  <tbody>\n",
       "    <tr>\n",
       "      <th>42490</th>\n",
       "      <td>2022-06-27 21:00:00</td>\n",
       "      <td>BTC</td>\n",
       "      <td>20913.57</td>\n",
       "      <td>20916.90</td>\n",
       "      <td>20783.15</td>\n",
       "      <td>20803.24</td>\n",
       "      <td>1093.61442</td>\n",
       "      <td>20985.042969</td>\n",
       "    </tr>\n",
       "    <tr>\n",
       "      <th>42491</th>\n",
       "      <td>2022-06-27 22:00:00</td>\n",
       "      <td>BTC</td>\n",
       "      <td>20803.25</td>\n",
       "      <td>20950.00</td>\n",
       "      <td>20762.80</td>\n",
       "      <td>20814.42</td>\n",
       "      <td>2552.76729</td>\n",
       "      <td>20961.603516</td>\n",
       "    </tr>\n",
       "    <tr>\n",
       "      <th>42492</th>\n",
       "      <td>2022-06-27 23:00:00</td>\n",
       "      <td>BTC</td>\n",
       "      <td>20814.42</td>\n",
       "      <td>20887.99</td>\n",
       "      <td>20680.00</td>\n",
       "      <td>20742.56</td>\n",
       "      <td>1915.17870</td>\n",
       "      <td>20943.753906</td>\n",
       "    </tr>\n",
       "    <tr>\n",
       "      <th>42493</th>\n",
       "      <td>2022-06-28 00:00:00</td>\n",
       "      <td>BTC</td>\n",
       "      <td>20742.57</td>\n",
       "      <td>20873.82</td>\n",
       "      <td>20684.00</td>\n",
       "      <td>20770.50</td>\n",
       "      <td>2620.37096</td>\n",
       "      <td>20893.675781</td>\n",
       "    </tr>\n",
       "    <tr>\n",
       "      <th>42494</th>\n",
       "      <td>2022-06-28 01:00:00</td>\n",
       "      <td>BTC</td>\n",
       "      <td>20770.50</td>\n",
       "      <td>20814.70</td>\n",
       "      <td>20553.04</td>\n",
       "      <td>20619.45</td>\n",
       "      <td>2874.79364</td>\n",
       "      <td>20882.132812</td>\n",
       "    </tr>\n",
       "    <tr>\n",
       "      <th>...</th>\n",
       "      <td>...</td>\n",
       "      <td>...</td>\n",
       "      <td>...</td>\n",
       "      <td>...</td>\n",
       "      <td>...</td>\n",
       "      <td>...</td>\n",
       "      <td>...</td>\n",
       "      <td>...</td>\n",
       "    </tr>\n",
       "    <tr>\n",
       "      <th>60657</th>\n",
       "      <td>2024-07-23 21:00:00</td>\n",
       "      <td>BTC</td>\n",
       "      <td>65836.00</td>\n",
       "      <td>66049.99</td>\n",
       "      <td>65782.00</td>\n",
       "      <td>65872.00</td>\n",
       "      <td>579.43470</td>\n",
       "      <td>65709.421875</td>\n",
       "    </tr>\n",
       "    <tr>\n",
       "      <th>60658</th>\n",
       "      <td>2024-07-23 22:00:00</td>\n",
       "      <td>BTC</td>\n",
       "      <td>65872.00</td>\n",
       "      <td>66043.47</td>\n",
       "      <td>65790.00</td>\n",
       "      <td>65917.99</td>\n",
       "      <td>678.72040</td>\n",
       "      <td>65969.937500</td>\n",
       "    </tr>\n",
       "    <tr>\n",
       "      <th>60659</th>\n",
       "      <td>2024-07-23 23:00:00</td>\n",
       "      <td>BTC</td>\n",
       "      <td>65917.99</td>\n",
       "      <td>66054.00</td>\n",
       "      <td>65793.01</td>\n",
       "      <td>65936.01</td>\n",
       "      <td>673.09371</td>\n",
       "      <td>65893.937500</td>\n",
       "    </tr>\n",
       "    <tr>\n",
       "      <th>60660</th>\n",
       "      <td>2024-07-24 00:00:00</td>\n",
       "      <td>BTC</td>\n",
       "      <td>65936.00</td>\n",
       "      <td>66146.01</td>\n",
       "      <td>65780.00</td>\n",
       "      <td>65784.70</td>\n",
       "      <td>522.47964</td>\n",
       "      <td>65938.562500</td>\n",
       "    </tr>\n",
       "    <tr>\n",
       "      <th>60661</th>\n",
       "      <td>2024-07-24 01:00:00</td>\n",
       "      <td>BTC</td>\n",
       "      <td>65784.70</td>\n",
       "      <td>66114.21</td>\n",
       "      <td>65619.98</td>\n",
       "      <td>65666.01</td>\n",
       "      <td>636.47823</td>\n",
       "      <td>65980.906250</td>\n",
       "    </tr>\n",
       "  </tbody>\n",
       "</table>\n",
       "<p>18172 rows × 8 columns</p>\n",
       "</div>"
      ],
      "text/plain": [
       "                      date symbol      open      high       low     close  \\\n",
       "42490  2022-06-27 21:00:00    BTC  20913.57  20916.90  20783.15  20803.24   \n",
       "42491  2022-06-27 22:00:00    BTC  20803.25  20950.00  20762.80  20814.42   \n",
       "42492  2022-06-27 23:00:00    BTC  20814.42  20887.99  20680.00  20742.56   \n",
       "42493  2022-06-28 00:00:00    BTC  20742.57  20873.82  20684.00  20770.50   \n",
       "42494  2022-06-28 01:00:00    BTC  20770.50  20814.70  20553.04  20619.45   \n",
       "...                    ...    ...       ...       ...       ...       ...   \n",
       "60657  2024-07-23 21:00:00    BTC  65836.00  66049.99  65782.00  65872.00   \n",
       "60658  2024-07-23 22:00:00    BTC  65872.00  66043.47  65790.00  65917.99   \n",
       "60659  2024-07-23 23:00:00    BTC  65917.99  66054.00  65793.01  65936.01   \n",
       "60660  2024-07-24 00:00:00    BTC  65936.00  66146.01  65780.00  65784.70   \n",
       "60661  2024-07-24 01:00:00    BTC  65784.70  66114.21  65619.98  65666.01   \n",
       "\n",
       "           volume         CLSTM  \n",
       "42490  1093.61442  20985.042969  \n",
       "42491  2552.76729  20961.603516  \n",
       "42492  1915.17870  20943.753906  \n",
       "42493  2620.37096  20893.675781  \n",
       "42494  2874.79364  20882.132812  \n",
       "...           ...           ...  \n",
       "60657   579.43470  65709.421875  \n",
       "60658   678.72040  65969.937500  \n",
       "60659   673.09371  65893.937500  \n",
       "60660   522.47964  65938.562500  \n",
       "60661   636.47823  65980.906250  \n",
       "\n",
       "[18172 rows x 8 columns]"
      ]
     },
     "execution_count": 542,
     "metadata": {},
     "output_type": "execute_result"
    }
   ],
   "source": [
    "update_dataset_model"
   ]
  },
  {
   "cell_type": "code",
   "execution_count": 543,
   "id": "4c7ec3d2-1bd5-48bf-88e1-04e9043b7c25",
   "metadata": {},
   "outputs": [],
   "source": [
    "update_dataset_model = update_dataset_model.join(ta.wma(update_dataset_model['CLSTM'], length=48))"
   ]
  },
  {
   "cell_type": "code",
   "execution_count": 544,
   "id": "c9d1e985-8fc8-47df-b15c-daa427c884ca",
   "metadata": {},
   "outputs": [],
   "source": [
    "update_dataset_model = update_dataset_model.join(ta.wma(update_dataset_model['CLSTM'], length=12))"
   ]
  },
  {
   "cell_type": "code",
   "execution_count": 545,
   "id": "7917e222-e31f-4cc8-b28b-aaa73055bb96",
   "metadata": {},
   "outputs": [
    {
     "data": {
      "text/html": [
       "<div>\n",
       "<style scoped>\n",
       "    .dataframe tbody tr th:only-of-type {\n",
       "        vertical-align: middle;\n",
       "    }\n",
       "\n",
       "    .dataframe tbody tr th {\n",
       "        vertical-align: top;\n",
       "    }\n",
       "\n",
       "    .dataframe thead th {\n",
       "        text-align: right;\n",
       "    }\n",
       "</style>\n",
       "<table border=\"1\" class=\"dataframe\">\n",
       "  <thead>\n",
       "    <tr style=\"text-align: right;\">\n",
       "      <th></th>\n",
       "      <th>date</th>\n",
       "      <th>symbol</th>\n",
       "      <th>open</th>\n",
       "      <th>high</th>\n",
       "      <th>low</th>\n",
       "      <th>close</th>\n",
       "      <th>volume</th>\n",
       "      <th>CLSTM</th>\n",
       "      <th>WMA_48</th>\n",
       "      <th>WMA_12</th>\n",
       "    </tr>\n",
       "  </thead>\n",
       "  <tbody>\n",
       "    <tr>\n",
       "      <th>42490</th>\n",
       "      <td>2022-06-27 21:00:00</td>\n",
       "      <td>BTC</td>\n",
       "      <td>20913.57</td>\n",
       "      <td>20916.90</td>\n",
       "      <td>20783.15</td>\n",
       "      <td>20803.24</td>\n",
       "      <td>1093.61442</td>\n",
       "      <td>20985.042969</td>\n",
       "      <td>NaN</td>\n",
       "      <td>NaN</td>\n",
       "    </tr>\n",
       "    <tr>\n",
       "      <th>42491</th>\n",
       "      <td>2022-06-27 22:00:00</td>\n",
       "      <td>BTC</td>\n",
       "      <td>20803.25</td>\n",
       "      <td>20950.00</td>\n",
       "      <td>20762.80</td>\n",
       "      <td>20814.42</td>\n",
       "      <td>2552.76729</td>\n",
       "      <td>20961.603516</td>\n",
       "      <td>NaN</td>\n",
       "      <td>NaN</td>\n",
       "    </tr>\n",
       "    <tr>\n",
       "      <th>42492</th>\n",
       "      <td>2022-06-27 23:00:00</td>\n",
       "      <td>BTC</td>\n",
       "      <td>20814.42</td>\n",
       "      <td>20887.99</td>\n",
       "      <td>20680.00</td>\n",
       "      <td>20742.56</td>\n",
       "      <td>1915.17870</td>\n",
       "      <td>20943.753906</td>\n",
       "      <td>NaN</td>\n",
       "      <td>NaN</td>\n",
       "    </tr>\n",
       "    <tr>\n",
       "      <th>42493</th>\n",
       "      <td>2022-06-28 00:00:00</td>\n",
       "      <td>BTC</td>\n",
       "      <td>20742.57</td>\n",
       "      <td>20873.82</td>\n",
       "      <td>20684.00</td>\n",
       "      <td>20770.50</td>\n",
       "      <td>2620.37096</td>\n",
       "      <td>20893.675781</td>\n",
       "      <td>NaN</td>\n",
       "      <td>NaN</td>\n",
       "    </tr>\n",
       "    <tr>\n",
       "      <th>42494</th>\n",
       "      <td>2022-06-28 01:00:00</td>\n",
       "      <td>BTC</td>\n",
       "      <td>20770.50</td>\n",
       "      <td>20814.70</td>\n",
       "      <td>20553.04</td>\n",
       "      <td>20619.45</td>\n",
       "      <td>2874.79364</td>\n",
       "      <td>20882.132812</td>\n",
       "      <td>NaN</td>\n",
       "      <td>NaN</td>\n",
       "    </tr>\n",
       "    <tr>\n",
       "      <th>...</th>\n",
       "      <td>...</td>\n",
       "      <td>...</td>\n",
       "      <td>...</td>\n",
       "      <td>...</td>\n",
       "      <td>...</td>\n",
       "      <td>...</td>\n",
       "      <td>...</td>\n",
       "      <td>...</td>\n",
       "      <td>...</td>\n",
       "      <td>...</td>\n",
       "    </tr>\n",
       "    <tr>\n",
       "      <th>60657</th>\n",
       "      <td>2024-07-23 21:00:00</td>\n",
       "      <td>BTC</td>\n",
       "      <td>65836.00</td>\n",
       "      <td>66049.99</td>\n",
       "      <td>65782.00</td>\n",
       "      <td>65872.00</td>\n",
       "      <td>579.43470</td>\n",
       "      <td>65709.421875</td>\n",
       "      <td>66871.913817</td>\n",
       "      <td>66155.357572</td>\n",
       "    </tr>\n",
       "    <tr>\n",
       "      <th>60658</th>\n",
       "      <td>2024-07-23 22:00:00</td>\n",
       "      <td>BTC</td>\n",
       "      <td>65872.00</td>\n",
       "      <td>66043.47</td>\n",
       "      <td>65790.00</td>\n",
       "      <td>65917.99</td>\n",
       "      <td>678.72040</td>\n",
       "      <td>65969.937500</td>\n",
       "      <td>66822.836701</td>\n",
       "      <td>66095.379808</td>\n",
       "    </tr>\n",
       "    <tr>\n",
       "      <th>60659</th>\n",
       "      <td>2024-07-23 23:00:00</td>\n",
       "      <td>BTC</td>\n",
       "      <td>65917.99</td>\n",
       "      <td>66054.00</td>\n",
       "      <td>65793.01</td>\n",
       "      <td>65936.01</td>\n",
       "      <td>673.09371</td>\n",
       "      <td>65893.937500</td>\n",
       "      <td>66772.182657</td>\n",
       "      <td>66036.258914</td>\n",
       "    </tr>\n",
       "    <tr>\n",
       "      <th>60660</th>\n",
       "      <td>2024-07-24 00:00:00</td>\n",
       "      <td>BTC</td>\n",
       "      <td>65936.00</td>\n",
       "      <td>66146.01</td>\n",
       "      <td>65780.00</td>\n",
       "      <td>65784.70</td>\n",
       "      <td>522.47964</td>\n",
       "      <td>65938.562500</td>\n",
       "      <td>66725.274580</td>\n",
       "      <td>65996.317608</td>\n",
       "    </tr>\n",
       "    <tr>\n",
       "      <th>60661</th>\n",
       "      <td>2024-07-24 01:00:00</td>\n",
       "      <td>BTC</td>\n",
       "      <td>65784.70</td>\n",
       "      <td>66114.21</td>\n",
       "      <td>65619.98</td>\n",
       "      <td>65666.01</td>\n",
       "      <td>636.47823</td>\n",
       "      <td>65980.906250</td>\n",
       "      <td>66681.765811</td>\n",
       "      <td>65971.763822</td>\n",
       "    </tr>\n",
       "  </tbody>\n",
       "</table>\n",
       "<p>18172 rows × 10 columns</p>\n",
       "</div>"
      ],
      "text/plain": [
       "                      date symbol      open      high       low     close  \\\n",
       "42490  2022-06-27 21:00:00    BTC  20913.57  20916.90  20783.15  20803.24   \n",
       "42491  2022-06-27 22:00:00    BTC  20803.25  20950.00  20762.80  20814.42   \n",
       "42492  2022-06-27 23:00:00    BTC  20814.42  20887.99  20680.00  20742.56   \n",
       "42493  2022-06-28 00:00:00    BTC  20742.57  20873.82  20684.00  20770.50   \n",
       "42494  2022-06-28 01:00:00    BTC  20770.50  20814.70  20553.04  20619.45   \n",
       "...                    ...    ...       ...       ...       ...       ...   \n",
       "60657  2024-07-23 21:00:00    BTC  65836.00  66049.99  65782.00  65872.00   \n",
       "60658  2024-07-23 22:00:00    BTC  65872.00  66043.47  65790.00  65917.99   \n",
       "60659  2024-07-23 23:00:00    BTC  65917.99  66054.00  65793.01  65936.01   \n",
       "60660  2024-07-24 00:00:00    BTC  65936.00  66146.01  65780.00  65784.70   \n",
       "60661  2024-07-24 01:00:00    BTC  65784.70  66114.21  65619.98  65666.01   \n",
       "\n",
       "           volume         CLSTM        WMA_48        WMA_12  \n",
       "42490  1093.61442  20985.042969           NaN           NaN  \n",
       "42491  2552.76729  20961.603516           NaN           NaN  \n",
       "42492  1915.17870  20943.753906           NaN           NaN  \n",
       "42493  2620.37096  20893.675781           NaN           NaN  \n",
       "42494  2874.79364  20882.132812           NaN           NaN  \n",
       "...           ...           ...           ...           ...  \n",
       "60657   579.43470  65709.421875  66871.913817  66155.357572  \n",
       "60658   678.72040  65969.937500  66822.836701  66095.379808  \n",
       "60659   673.09371  65893.937500  66772.182657  66036.258914  \n",
       "60660   522.47964  65938.562500  66725.274580  65996.317608  \n",
       "60661   636.47823  65980.906250  66681.765811  65971.763822  \n",
       "\n",
       "[18172 rows x 10 columns]"
      ]
     },
     "execution_count": 545,
     "metadata": {},
     "output_type": "execute_result"
    }
   ],
   "source": [
    "update_dataset_model"
   ]
  },
  {
   "cell_type": "code",
   "execution_count": 546,
   "id": "68aca6f4-becf-4202-bca0-684d50a9f0e9",
   "metadata": {},
   "outputs": [],
   "source": [
    "update_dataset_model = update_dataset_model.dropna()"
   ]
  },
  {
   "cell_type": "code",
   "execution_count": 548,
   "id": "4209609a-659e-45fc-97aa-e287d028398d",
   "metadata": {},
   "outputs": [],
   "source": [
    "update_dataset_model['diff'] = update_dataset_model['WMA_12'] - update_dataset_model['WMA_48']"
   ]
  },
  {
   "cell_type": "code",
   "execution_count": 549,
   "id": "ad92110f-728b-47d6-851f-457de084ca7d",
   "metadata": {},
   "outputs": [],
   "source": [
    "diff_lstm = update_dataset_model['diff'].tolist()"
   ]
  },
  {
   "cell_type": "code",
   "execution_count": 550,
   "id": "e64b005f-d771-421a-87f2-ddaf44f05cbf",
   "metadata": {},
   "outputs": [],
   "source": [
    "signal = []\n",
    "for i in range(len(diff_lstm)):\n",
    "    if i == 0:\n",
    "        signal.append(0)\n",
    "    elif diff_lstm[i] > 0 and diff_lstm[i-1] < 0:\n",
    "        signal.append(1)\n",
    "    elif diff_lstm[i] < 0 and diff_lstm[i-1] > 0:\n",
    "        signal.append(-1)\n",
    "    else:\n",
    "        signal.append(0)"
   ]
  },
  {
   "cell_type": "code",
   "execution_count": 551,
   "id": "1844913d-50af-41c7-9f41-54928bcbddb1",
   "metadata": {},
   "outputs": [],
   "source": [
    "update_dataset_model['signal'] = signal"
   ]
  },
  {
   "cell_type": "code",
   "execution_count": 552,
   "id": "98c555fc-1f8d-4564-a2e3-127b34a74330",
   "metadata": {},
   "outputs": [],
   "source": [
    "decision_price = []\n",
    "for index, row in update_dataset_model.iterrows():\n",
    "    if row['signal'] == 1:\n",
    "        decision_price.append(row['close'])\n",
    "    elif row['signal'] == -1:\n",
    "        decision_price.append(-1*row['close'])"
   ]
  },
  {
   "cell_type": "code",
   "execution_count": 553,
   "id": "88da8ad9-62d7-47ea-b152-75f36d044a13",
   "metadata": {},
   "outputs": [
    {
     "data": {
      "text/plain": [
       "682"
      ]
     },
     "execution_count": 553,
     "metadata": {},
     "output_type": "execute_result"
    }
   ],
   "source": [
    "len(decision_price)"
   ]
  },
  {
   "cell_type": "code",
   "execution_count": 554,
   "id": "3ea2a069-9290-4168-abd2-72f151f9b110",
   "metadata": {},
   "outputs": [
    {
     "data": {
      "text/plain": [
       "[19409.23,\n",
       " -19450.24,\n",
       " 19299.99,\n",
       " -19147.25,\n",
       " 19712.8,\n",
       " -19552.4,\n",
       " 20435.25,\n",
       " -21554.52,\n",
       " 19574.57,\n",
       " -20606.76,\n",
       " 21289.51,\n",
       " -21018.99,\n",
       " 22245.93,\n",
       " -22777.2,\n",
       " 23448.78,\n",
       " -22684.83,\n",
       " 22521.8,\n",
       " -21894.8,\n",
       " 21292.31,\n",
       " -23793.25,\n",
       " 24490.53,\n",
       " -23794.81,\n",
       " 23100.92,\n",
       " -22776.69,\n",
       " 23402.83,\n",
       " -23123.82,\n",
       " 23151.46,\n",
       " -22889.24,\n",
       " 23161.02,\n",
       " -23263.92,\n",
       " 24002.48,\n",
       " -23906.32,\n",
       " 24485.12,\n",
       " -24284.07,\n",
       " 24817.62,\n",
       " -24049.48,\n",
       " 23786.42,\n",
       " -23671.55,\n",
       " 21379.57,\n",
       " -21248.71,\n",
       " 21350.98,\n",
       " -21317.85,\n",
       " 21618.45,\n",
       " -21558.13,\n",
       " 20781.08,\n",
       " -20644.47,\n",
       " 20262.28,\n",
       " -19947.2,\n",
       " 20258.09,\n",
       " -20050.02,\n",
       " 20125.29,\n",
       " -19954.41,\n",
       " 19882.69,\n",
       " -19744.01,\n",
       " 19826.49,\n",
       " -19796.84,\n",
       " 19771.81,\n",
       " -18978.6,\n",
       " 19292.84,\n",
       " -20764.12,\n",
       " 19839.7,\n",
       " -19635.8,\n",
       " 19603.17,\n",
       " -18875.8,\n",
       " 19235.21,\n",
       " -18744.02,\n",
       " 18903.67,\n",
       " -18674.45,\n",
       " 19082.72,\n",
       " -19080.2,\n",
       " 19555.58,\n",
       " -19359.71,\n",
       " 19197.36,\n",
       " -19591.51,\n",
       " 19993.09,\n",
       " -19423.84,\n",
       " 19091.24,\n",
       " -19232.66,\n",
       " 19335.92,\n",
       " -20193.31,\n",
       " 20101.01,\n",
       " -20047.04,\n",
       " 19504.7,\n",
       " -19277.72,\n",
       " 19115.62,\n",
       " -19089.16,\n",
       " 18432.14,\n",
       " -18415.0,\n",
       " 19086.39,\n",
       " -19159.83,\n",
       " 19132.13,\n",
       " -19293.62,\n",
       " 19253.3,\n",
       " -19049.62,\n",
       " 19168.25,\n",
       " -19148.21,\n",
       " 19437.83,\n",
       " -19329.72,\n",
       " 19748.48,\n",
       " -20723.78,\n",
       " 20524.54,\n",
       " -20395.8,\n",
       " 20407.45,\n",
       " -20295.11,\n",
       " 20629.63,\n",
       " -20805.06,\n",
       " 20336.22,\n",
       " -20479.48,\n",
       " 20541.12,\n",
       " -20454.78,\n",
       " 20250.68,\n",
       " -20203.49,\n",
       " 20248.62,\n",
       " -20195.41,\n",
       " 20583.39,\n",
       " -21197.33,\n",
       " 17197.23,\n",
       " -16909.31,\n",
       " 16823.58,\n",
       " -16619.46,\n",
       " 16657.75,\n",
       " -16707.9,\n",
       " 16694.16,\n",
       " -16639.06,\n",
       " 16679.99,\n",
       " -16584.48,\n",
       " 16140.29,\n",
       " -16567.36,\n",
       " 16625.79,\n",
       " -16500.9,\n",
       " 16539.51,\n",
       " -16574.28,\n",
       " 16117.63,\n",
       " -16178.22,\n",
       " 16463.31,\n",
       " -16965.24,\n",
       " 17020.89,\n",
       " -16979.13,\n",
       " 17012.1,\n",
       " -16973.42,\n",
       " 16793.36,\n",
       " -16825.53,\n",
       " 16966.57,\n",
       " -17154.43,\n",
       " 17160.19,\n",
       " -16932.45,\n",
       " 17209.83,\n",
       " -17714.01,\n",
       " 16761.68,\n",
       " -16599.71,\n",
       " 16785.78,\n",
       " -16864.08,\n",
       " 16821.85,\n",
       " -16828.14,\n",
       " 16815.96,\n",
       " -16833.38,\n",
       " 16865.6,\n",
       " -16690.75,\n",
       " 16633.73,\n",
       " -16554.39,\n",
       " 16580.32,\n",
       " -16551.89,\n",
       " 16600.39,\n",
       " -16529.67,\n",
       " 16604.51,\n",
       " -16660.53,\n",
       " 16860.5,\n",
       " -16823.64,\n",
       " 16841.93,\n",
       " -16837.06,\n",
       " 16821.27,\n",
       " -16937.92,\n",
       " 16936.87,\n",
       " -17203.2,\n",
       " 17302.15,\n",
       " -20750.59,\n",
       " 20900.62,\n",
       " -21249.31,\n",
       " 21042.73,\n",
       " -20677.47,\n",
       " 21071.59,\n",
       " -22856.68,\n",
       " 22853.14,\n",
       " -22755.52,\n",
       " 22932.2,\n",
       " -22647.48,\n",
       " 23183.91,\n",
       " -22978.64,\n",
       " 23193.43,\n",
       " -23287.7,\n",
       " 23163.88,\n",
       " -23086.1,\n",
       " 23101.0,\n",
       " -23077.26,\n",
       " 23573.11,\n",
       " -23534.18,\n",
       " 23506.58,\n",
       " -23379.01,\n",
       " 23031.03,\n",
       " -22849.16,\n",
       " 22982.54,\n",
       " -22955.37,\n",
       " 21816.22,\n",
       " -21823.04,\n",
       " 21594.16,\n",
       " -21572.88,\n",
       " 21859.32,\n",
       " -23805.15,\n",
       " 24360.66,\n",
       " -24456.81,\n",
       " 24686.0,\n",
       " -24681.69,\n",
       " 24582.62,\n",
       " -24569.06,\n",
       " 24922.21,\n",
       " -24344.03,\n",
       " 24815.98,\n",
       " -24602.88,\n",
       " 24376.27,\n",
       " -23866.11,\n",
       " 23236.81,\n",
       " -23441.76,\n",
       " 23526.54,\n",
       " -23101.0,\n",
       " 23867.78,\n",
       " -23494.29,\n",
       " 22387.02,\n",
       " -22399.78,\n",
       " 22553.42,\n",
       " -22381.17,\n",
       " 22238.77,\n",
       " -22197.96,\n",
       " 20854.93,\n",
       " -20343.58,\n",
       " 20071.82,\n",
       " -20031.65,\n",
       " 20386.99,\n",
       " -20346.71,\n",
       " 20339.55,\n",
       " -24699.71,\n",
       " 24706.61,\n",
       " -24361.12,\n",
       " 24846.64,\n",
       " -27077.54,\n",
       " 27897.98,\n",
       " -27717.01,\n",
       " 28037.9,\n",
       " -28049.59,\n",
       " 28647.26,\n",
       " -27209.19,\n",
       " 27903.8,\n",
       " -27821.6,\n",
       " 27678.63,\n",
       " -27145.5,\n",
       " 27268.73,\n",
       " -27986.09,\n",
       " 28315.5,\n",
       " -28446.78,\n",
       " 28452.73,\n",
       " -28410.57,\n",
       " 28051.48,\n",
       " -27714.56,\n",
       " 28289.52,\n",
       " -28240.64,\n",
       " 28113.12,\n",
       " -27937.77,\n",
       " 28027.71,\n",
       " -27898.58,\n",
       " 28371.39,\n",
       " -30016.3,\n",
       " 29964.02,\n",
       " -29939.02,\n",
       " 30204.85,\n",
       " -30448.82,\n",
       " 30343.04,\n",
       " -30020.0,\n",
       " 30303.14,\n",
       " -29310.65,\n",
       " 27853.28,\n",
       " -27504.62,\n",
       " 27745.17,\n",
       " -27418.91,\n",
       " 27975.01,\n",
       " -29273.42,\n",
       " 29356.03,\n",
       " -29332.11,\n",
       " 29655.18,\n",
       " -28561.06,\n",
       " 28718.9,\n",
       " -28518.72,\n",
       " 29107.13,\n",
       " -28838.16,\n",
       " 29198.23,\n",
       " -28606.61,\n",
       " 27685.29,\n",
       " -27677.09,\n",
       " 28169.76,\n",
       " -27503.66,\n",
       " 26797.75,\n",
       " -27061.55,\n",
       " 27333.73,\n",
       " -26734.01,\n",
       " 26889.11,\n",
       " -26898.97,\n",
       " 26850.16,\n",
       " -26775.45,\n",
       " 26454.41,\n",
       " -27689.22,\n",
       " 28021.4,\n",
       " -27765.84,\n",
       " 27049.65,\n",
       " -27069.22,\n",
       " 27210.1,\n",
       " -26843.58,\n",
       " 27080.13,\n",
       " -26359.93,\n",
       " 26637.3,\n",
       " -26492.69,\n",
       " 26030.89,\n",
       " -25893.48,\n",
       " 26125.49,\n",
       " -25847.98,\n",
       " 25965.86,\n",
       " -24934.21,\n",
       " 25496.59,\n",
       " -26366.1,\n",
       " 26682.28,\n",
       " -30002.0,\n",
       " 31238.0,\n",
       " -30515.33,\n",
       " 30858.56,\n",
       " -30526.01,\n",
       " 30395.14,\n",
       " -30278.0,\n",
       " 30670.94,\n",
       " -30372.36,\n",
       " 30572.0,\n",
       " -30544.74,\n",
       " 30617.03,\n",
       " -30797.13,\n",
       " 31069.6,\n",
       " -30378.01,\n",
       " 30286.29,\n",
       " -30209.32,\n",
       " 30287.99,\n",
       " -30160.71,\n",
       " 30278.2,\n",
       " -30356.01,\n",
       " 30917.48,\n",
       " -30189.18,\n",
       " 30379.95,\n",
       " -30291.05,\n",
       " 30044.59,\n",
       " -29987.33,\n",
       " 29985.53,\n",
       " -29756.0,\n",
       " 29901.72,\n",
       " -29814.23,\n",
       " 29900.18,\n",
       " -29778.46,\n",
       " 29228.93,\n",
       " -29163.83,\n",
       " 29259.36,\n",
       " -29308.46,\n",
       " 29352.36,\n",
       " -29292.52,\n",
       " 29396.52,\n",
       " -29156.0,\n",
       " 29421.99,\n",
       " -29195.74,\n",
       " 29705.99,\n",
       " -29151.56,\n",
       " 29253.91,\n",
       " -29240.84,\n",
       " 29257.13,\n",
       " -28967.51,\n",
       " 29083.59,\n",
       " -29012.93,\n",
       " 29086.58,\n",
       " -28938.0,\n",
       " 29260.1,\n",
       " -29526.89,\n",
       " 29456.74,\n",
       " -29396.36,\n",
       " 29433.58,\n",
       " -29378.01,\n",
       " 26100.01,\n",
       " -26059.99,\n",
       " 26100.11,\n",
       " -26069.99,\n",
       " 26037.99,\n",
       " -26021.25,\n",
       " 26060.44,\n",
       " -25963.02,\n",
       " 26141.79,\n",
       " -25981.27,\n",
       " 27423.44,\n",
       " -27241.0,\n",
       " 25848.99,\n",
       " -25814.23,\n",
       " 25755.39,\n",
       " -25713.63,\n",
       " 25816.09,\n",
       " -25768.76,\n",
       " 25931.18,\n",
       " -25796.69,\n",
       " 25869.97,\n",
       " -26379.97,\n",
       " 26675.01,\n",
       " -26507.12,\n",
       " 26532.8,\n",
       " -26529.25,\n",
       " 26566.67,\n",
       " -26436.35,\n",
       " 26622.83,\n",
       " -26859.9,\n",
       " 27170.73,\n",
       " -27124.99,\n",
       " 27161.15,\n",
       " -27111.16,\n",
       " 27095.93,\n",
       " -27125.0,\n",
       " 26587.75,\n",
       " -26557.99,\n",
       " 26588.77,\n",
       " -26502.0,\n",
       " 26357.14,\n",
       " -26126.66,\n",
       " 26397.79,\n",
       " -26887.2,\n",
       " 26996.29,\n",
       " -27563.32,\n",
       " 27420.0,\n",
       " -27450.0,\n",
       " 27877.74,\n",
       " -27811.63,\n",
       " 26875.0,\n",
       " -26890.01,\n",
       " 26901.29,\n",
       " -28247.45,\n",
       " 28482.09,\n",
       " -29883.6,\n",
       " 30378.23,\n",
       " -34199.64,\n",
       " 34090.0,\n",
       " -34076.61,\n",
       " 34210.31,\n",
       " -34209.33,\n",
       " 34475.98,\n",
       " -35000.01,\n",
       " 34708.9,\n",
       " -35011.88,\n",
       " 35054.99,\n",
       " -34875.0,\n",
       " 34901.89,\n",
       " -34978.38,\n",
       " 35030.36,\n",
       " -34814.33,\n",
       " 35475.65,\n",
       " -37130.0,\n",
       " 37069.25,\n",
       " -36962.95,\n",
       " 36372.01,\n",
       " -36235.59,\n",
       " 36408.09,\n",
       " -36635.97,\n",
       " 37607.08,\n",
       " -37773.21,\n",
       " 37759.58,\n",
       " -37627.52,\n",
       " 37367.36,\n",
       " -37790.65,\n",
       " 38179.86,\n",
       " -43188.03,\n",
       " 43760.94,\n",
       " -43772.01,\n",
       " 42118.6,\n",
       " -42847.07,\n",
       " 42590.13,\n",
       " -41925.55,\n",
       " 42511.1,\n",
       " -42275.99,\n",
       " 42924.23,\n",
       " -43693.99,\n",
       " 43787.69,\n",
       " -43685.26,\n",
       " 43554.21,\n",
       " -42774.12,\n",
       " 42912.86,\n",
       " -42445.99,\n",
       " 42361.13,\n",
       " -42492.46,\n",
       " 42691.1,\n",
       " -42529.4,\n",
       " 43990.01,\n",
       " -43610.07,\n",
       " 44068.8,\n",
       " -43651.9,\n",
       " 43906.36,\n",
       " -43371.09,\n",
       " 44911.58,\n",
       " -45971.09,\n",
       " 46670.01,\n",
       " -46144.01,\n",
       " 42904.38,\n",
       " -42554.89,\n",
       " 42199.0,\n",
       " -42522.61,\n",
       " 42992.67,\n",
       " -42678.57,\n",
       " 42447.66,\n",
       " -42544.59,\n",
       " 41655.42,\n",
       " -41363.37,\n",
       " 39888.0,\n",
       " -39842.64,\n",
       " 40102.4,\n",
       " -41834.0,\n",
       " 42246.95,\n",
       " -41951.86,\n",
       " 42996.57,\n",
       " -42930.07,\n",
       " 42541.18,\n",
       " -42656.07,\n",
       " 43011.83,\n",
       " -43042.27,\n",
       " 43061.09,\n",
       " -43065.15,\n",
       " 43194.08,\n",
       " -42504.74,\n",
       " 42799.5,\n",
       " -43073.28,\n",
       " 43028.6,\n",
       " -47903.03,\n",
       " 49582.33,\n",
       " -49107.84,\n",
       " 50758.0,\n",
       " -51952.63,\n",
       " 52064.38,\n",
       " -52300.0,\n",
       " 52213.86,\n",
       " -51838.0,\n",
       " 51830.83,\n",
       " -51936.42,\n",
       " 52048.74,\n",
       " -51509.89,\n",
       " 52102.56,\n",
       " -51095.1,\n",
       " 51827.63,\n",
       " -51100.0,\n",
       " 51139.3,\n",
       " -51293.26,\n",
       " 53502.6,\n",
       " -61214.35,\n",
       " 62457.98,\n",
       " -61840.12,\n",
       " 62164.63,\n",
       " -61410.98,\n",
       " 67301.31,\n",
       " -68299.17,\n",
       " 71770.0,\n",
       " -71410.21,\n",
       " 72708.0,\n",
       " -70844.01,\n",
       " 68984.91,\n",
       " -67704.31,\n",
       " 68172.4,\n",
       " -67010.0,\n",
       " 65414.93,\n",
       " -65392.19,\n",
       " 64596.06,\n",
       " -64218.94,\n",
       " 65098.01,\n",
       " -70326.74,\n",
       " 70575.94,\n",
       " -70057.6,\n",
       " 70566.0,\n",
       " -70108.0,\n",
       " 70218.89,\n",
       " -69582.18,\n",
       " 70215.0,\n",
       " -69388.64,\n",
       " 65836.01,\n",
       " -65918.71,\n",
       " 66288.0,\n",
       " -65480.41,\n",
       " 66353.67,\n",
       " -66883.99,\n",
       " 67442.49,\n",
       " -70392.18,\n",
       " 70631.08,\n",
       " -68840.54,\n",
       " 65129.74,\n",
       " -63301.11,\n",
       " 63840.08,\n",
       " -61279.66,\n",
       " 63498.7,\n",
       " -63707.17,\n",
       " 64739.24,\n",
       " -65703.5,\n",
       " 65738.48,\n",
       " -65234.85,\n",
       " 64307.03,\n",
       " -63662.51,\n",
       " 63950.0,\n",
       " -63257.43,\n",
       " 64580.0,\n",
       " -61204.42,\n",
       " 59264.15,\n",
       " -63169.93,\n",
       " 63663.02,\n",
       " -64024.47,\n",
       " 63634.0,\n",
       " -63169.99,\n",
       " 62624.7,\n",
       " -60383.72,\n",
       " 61159.99,\n",
       " -61719.01,\n",
       " 62674.71,\n",
       " -65235.21,\n",
       " 66146.01,\n",
       " -66586.21,\n",
       " 66994.2,\n",
       " -70120.01,\n",
       " 69115.98,\n",
       " -68800.16,\n",
       " 70161.22,\n",
       " -68049.67,\n",
       " 68584.73,\n",
       " -67905.72,\n",
       " 68359.6,\n",
       " -67215.58,\n",
       " 67765.4,\n",
       " -68251.52,\n",
       " 67934.99,\n",
       " -71170.01,\n",
       " 71187.17,\n",
       " -70740.51,\n",
       " 71117.2,\n",
       " -69255.0,\n",
       " 69490.12,\n",
       " -69439.99,\n",
       " 70043.0,\n",
       " -68268.62,\n",
       " 69339.29,\n",
       " -67604.04,\n",
       " 66272.51,\n",
       " -66172.0,\n",
       " 66504.33,\n",
       " -65467.43,\n",
       " 65183.89,\n",
       " -64922.26,\n",
       " 65465.24,\n",
       " -65050.0,\n",
       " 64289.15,\n",
       " -63927.49,\n",
       " 61810.0,\n",
       " -61242.0,\n",
       " 61576.0,\n",
       " -61062.01,\n",
       " 61106.0,\n",
       " -61040.18,\n",
       " 61556.01,\n",
       " -62650.01,\n",
       " 56601.1,\n",
       " -56825.42,\n",
       " 57261.9,\n",
       " -57392.03,\n",
       " 58462.29,\n",
       " -57554.0,\n",
       " 58161.82,\n",
       " -64585.78,\n",
       " 64594.2,\n",
       " -63538.12,\n",
       " 65836.77,\n",
       " -67290.76,\n",
       " 67554.0,\n",
       " -67422.02,\n",
       " 67723.91,\n",
       " -67063.87,\n",
       " 67841.6,\n",
       " -66519.34]"
      ]
     },
     "execution_count": 554,
     "metadata": {},
     "output_type": "execute_result"
    }
   ],
   "source": [
    "decision_price"
   ]
  },
  {
   "cell_type": "code",
   "execution_count": 555,
   "id": "f7f7f8be-650d-4df9-95b2-bdcf780427eb",
   "metadata": {},
   "outputs": [],
   "source": [
    "decision_price_long = decision_price"
   ]
  },
  {
   "cell_type": "code",
   "execution_count": 556,
   "id": "23739897-86b5-40de-9d8f-26730a138e59",
   "metadata": {},
   "outputs": [],
   "source": [
    "pct_return_list = []\n",
    "init_money = 10000\n",
    "for i in list(range(0, len(decision_price_long), 2)):\n",
    "    pct_ret = ((init_money / decision_price_long[i]) * (-1 * decision_price_long[i+1]) - init_money)  / init_money\n",
    "    pct_return_list.append(pct_ret)"
   ]
  },
  {
   "cell_type": "code",
   "execution_count": 557,
   "id": "6a3c88f5-928b-45f3-96ea-5bc4d7f60d74",
   "metadata": {},
   "outputs": [
    {
     "data": {
      "text/plain": [
       "[<matplotlib.lines.Line2D at 0x295341d5610>]"
      ]
     },
     "execution_count": 557,
     "metadata": {},
     "output_type": "execute_result"
    },
    {
     "data": {
      "image/png": "[encoded data removed]",
      "text/plain": [
       "<Figure size 640x480 with 1 Axes>"
      ]
     },
     "metadata": {},
     "output_type": "display_data"
    }
   ],
   "source": [
    "plt.plot(pct_return_list)"
   ]
  },
  {
   "cell_type": "code",
   "execution_count": 558,
   "id": "aa863c2a-9487-4f93-b691-5e0b93ef3236",
   "metadata": {},
   "outputs": [],
   "source": [
    "output_return = cumulative_sum(pct_return_list)"
   ]
  },
  {
   "cell_type": "code",
   "execution_count": 559,
   "id": "f66482f0-8d55-4f91-851d-857531d8d2f8",
   "metadata": {},
   "outputs": [
    {
     "data": {
      "text/plain": [
       "[<matplotlib.lines.Line2D at 0x29534230d00>]"
      ]
     },
     "execution_count": 559,
     "metadata": {},
     "output_type": "execute_result"
    },
    {
     "data": {
      "image/png": "[encoded data removed]",
      "text/plain": [
       "<Figure size 640x480 with 1 Axes>"
      ]
     },
     "metadata": {},
     "output_type": "display_data"
    }
   ],
   "source": [
    "plt.plot(output_return)"
   ]
  },
  {
   "cell_type": "code",
   "execution_count": null,
   "id": "f33c267e-dccd-4dba-99e3-bd4cedb69a83",
   "metadata": {},
   "outputs": [],
   "source": []
  }
 ],
 "metadata": {
  "kernelspec": {
   "display_name": "Python 3 (ipykernel)",
   "language": "python",
   "name": "python3"
  },
  "language_info": {
   "codemirror_mode": {
    "name": "ipython",
    "version": 3
   },
   "file_extension": ".py",
   "mimetype": "text/x-python",
   "name": "python",
   "nbconvert_exporter": "python",
   "pygments_lexer": "ipython3",
   "version": "3.8.19"
  }
 },
 "nbformat": 4,
 "nbformat_minor": 5
}
